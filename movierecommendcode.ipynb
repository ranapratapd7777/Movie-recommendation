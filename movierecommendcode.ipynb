{
 "cells": [
  {
   "cell_type": "code",
   "execution_count": 139,
   "id": "9c7b5353",
   "metadata": {},
   "outputs": [],
   "source": [
    "import numpy as np\n",
    "import pandas as pd"
   ]
  },
  {
   "cell_type": "code",
   "execution_count": 140,
   "id": "833247df",
   "metadata": {},
   "outputs": [
    {
     "data": {
      "text/html": [
       "<div>\n",
       "<style scoped>\n",
       "    .dataframe tbody tr th:only-of-type {\n",
       "        vertical-align: middle;\n",
       "    }\n",
       "\n",
       "    .dataframe tbody tr th {\n",
       "        vertical-align: top;\n",
       "    }\n",
       "\n",
       "    .dataframe thead th {\n",
       "        text-align: right;\n",
       "    }\n",
       "</style>\n",
       "<table border=\"1\" class=\"dataframe\">\n",
       "  <thead>\n",
       "    <tr style=\"text-align: right;\">\n",
       "      <th></th>\n",
       "      <th>imdbId</th>\n",
       "      <th>title</th>\n",
       "      <th>releaseYear</th>\n",
       "      <th>releaseDate</th>\n",
       "      <th>genre</th>\n",
       "      <th>writers</th>\n",
       "      <th>actors</th>\n",
       "      <th>directors</th>\n",
       "      <th>sequel</th>\n",
       "      <th>rating</th>\n",
       "      <th>budget</th>\n",
       "      <th>gross</th>\n",
       "    </tr>\n",
       "  </thead>\n",
       "  <tbody>\n",
       "    <tr>\n",
       "      <th>0</th>\n",
       "      <td>tt0118578</td>\n",
       "      <td>Albela</td>\n",
       "      <td>2001</td>\n",
       "      <td>20-Apr-01</td>\n",
       "      <td>Romance</td>\n",
       "      <td>Honey Irani (screenplay) | Honey Irani (story)...</td>\n",
       "      <td>Govinda | Aishwarya Rai Bachchan | Jackie Shro...</td>\n",
       "      <td>Deepak Sareen</td>\n",
       "      <td>0.0</td>\n",
       "      <td>2</td>\n",
       "      <td>19000000.0</td>\n",
       "      <td>46998772.0</td>\n",
       "    </tr>\n",
       "    <tr>\n",
       "      <th>1</th>\n",
       "      <td>tt0169102</td>\n",
       "      <td>Lagaan: Once Upon a Time in India</td>\n",
       "      <td>2001</td>\n",
       "      <td>08-May-02</td>\n",
       "      <td>Adventure | Drama | Musical</td>\n",
       "      <td>Ashutosh Gowariker (story) | Ashutosh Gowarike...</td>\n",
       "      <td>Aamir Khan | Gracy Singh | Rachel Shelley | Pa...</td>\n",
       "      <td>Ashutosh Gowariker</td>\n",
       "      <td>0.0</td>\n",
       "      <td>6</td>\n",
       "      <td>4500000.0</td>\n",
       "      <td>58853106.0</td>\n",
       "    </tr>\n",
       "    <tr>\n",
       "      <th>2</th>\n",
       "      <td>tt0187279</td>\n",
       "      <td>Meri Biwi Ka Jawab Nahin</td>\n",
       "      <td>2004</td>\n",
       "      <td>02-Jul-04</td>\n",
       "      <td>Action | Comedy</td>\n",
       "      <td>NaN</td>\n",
       "      <td>Akshay Kumar | Sridevi | Gulshan Grover | Laxm...</td>\n",
       "      <td>Pankaj Parashar | S.M. Iqbal</td>\n",
       "      <td>0.0</td>\n",
       "      <td>1</td>\n",
       "      <td>18000000.0</td>\n",
       "      <td>538375067.0</td>\n",
       "    </tr>\n",
       "    <tr>\n",
       "      <th>3</th>\n",
       "      <td>tt0222024</td>\n",
       "      <td>Hum Tumhare Hain Sanam</td>\n",
       "      <td>2002</td>\n",
       "      <td>24-May-02</td>\n",
       "      <td>Drama | Romance</td>\n",
       "      <td>K.S. Adiyaman | Arun Kumar (assistant dialogue...</td>\n",
       "      <td>Shah Rukh Khan | Madhuri Dixit | Salman Khan |...</td>\n",
       "      <td>K.S. Adiyaman</td>\n",
       "      <td>0.0</td>\n",
       "      <td>4</td>\n",
       "      <td>3500000.0</td>\n",
       "      <td>83453539.0</td>\n",
       "    </tr>\n",
       "    <tr>\n",
       "      <th>4</th>\n",
       "      <td>tt0227194</td>\n",
       "      <td>One 2 Ka 4</td>\n",
       "      <td>2001</td>\n",
       "      <td>30-Mar-01</td>\n",
       "      <td>Action | Comedy | Drama</td>\n",
       "      <td>Sanjay Chhel | Raaj Kumar Dahima (screenplay) ...</td>\n",
       "      <td>Shah Rukh Khan | Juhi Chawla | Jackie Shroff |...</td>\n",
       "      <td>Shashilal K. Nair</td>\n",
       "      <td>0.0</td>\n",
       "      <td>1</td>\n",
       "      <td>6000000.0</td>\n",
       "      <td>39846344.0</td>\n",
       "    </tr>\n",
       "  </tbody>\n",
       "</table>\n",
       "</div>"
      ],
      "text/plain": [
       "      imdbId                              title  releaseYear releaseDate  \\\n",
       "0  tt0118578                             Albela         2001   20-Apr-01   \n",
       "1  tt0169102  Lagaan: Once Upon a Time in India         2001   08-May-02   \n",
       "2  tt0187279           Meri Biwi Ka Jawab Nahin         2004   02-Jul-04   \n",
       "3  tt0222024             Hum Tumhare Hain Sanam         2002   24-May-02   \n",
       "4  tt0227194                         One 2 Ka 4         2001   30-Mar-01   \n",
       "\n",
       "                         genre  \\\n",
       "0                      Romance   \n",
       "1  Adventure | Drama | Musical   \n",
       "2              Action | Comedy   \n",
       "3              Drama | Romance   \n",
       "4      Action | Comedy | Drama   \n",
       "\n",
       "                                             writers  \\\n",
       "0  Honey Irani (screenplay) | Honey Irani (story)...   \n",
       "1  Ashutosh Gowariker (story) | Ashutosh Gowarike...   \n",
       "2                                                NaN   \n",
       "3  K.S. Adiyaman | Arun Kumar (assistant dialogue...   \n",
       "4  Sanjay Chhel | Raaj Kumar Dahima (screenplay) ...   \n",
       "\n",
       "                                              actors  \\\n",
       "0  Govinda | Aishwarya Rai Bachchan | Jackie Shro...   \n",
       "1  Aamir Khan | Gracy Singh | Rachel Shelley | Pa...   \n",
       "2  Akshay Kumar | Sridevi | Gulshan Grover | Laxm...   \n",
       "3  Shah Rukh Khan | Madhuri Dixit | Salman Khan |...   \n",
       "4  Shah Rukh Khan | Juhi Chawla | Jackie Shroff |...   \n",
       "\n",
       "                      directors  sequel  rating      budget        gross  \n",
       "0                 Deepak Sareen     0.0       2  19000000.0   46998772.0  \n",
       "1            Ashutosh Gowariker     0.0       6   4500000.0   58853106.0  \n",
       "2  Pankaj Parashar | S.M. Iqbal     0.0       1  18000000.0  538375067.0  \n",
       "3                 K.S. Adiyaman     0.0       4   3500000.0   83453539.0  \n",
       "4             Shashilal K. Nair     0.0       1   6000000.0   39846344.0  "
      ]
     },
     "execution_count": 140,
     "metadata": {},
     "output_type": "execute_result"
    }
   ],
   "source": [
    "df=pd.read_csv(\"movie dataset.csv\")\n",
    "df.head()"
   ]
  },
  {
   "cell_type": "code",
   "execution_count": 141,
   "id": "47a46efb",
   "metadata": {},
   "outputs": [
    {
     "name": "stdout",
     "output_type": "stream",
     "text": [
      "<class 'pandas.core.frame.DataFrame'>\n",
      "RangeIndex: 1284 entries, 0 to 1283\n",
      "Data columns (total 12 columns):\n",
      " #   Column       Non-Null Count  Dtype  \n",
      "---  ------       --------------  -----  \n",
      " 0   imdbId       1284 non-null   object \n",
      " 1   title        1284 non-null   object \n",
      " 2   releaseYear  1284 non-null   int64  \n",
      " 3   releaseDate  1231 non-null   object \n",
      " 4   genre        1282 non-null   object \n",
      " 5   writers      1165 non-null   object \n",
      " 6   actors       1281 non-null   object \n",
      " 7   directors    1280 non-null   object \n",
      " 8   sequel       1281 non-null   float64\n",
      " 9   rating       1284 non-null   int64  \n",
      " 10  budget       714 non-null    float64\n",
      " 11  gross        1182 non-null   float64\n",
      "dtypes: float64(3), int64(2), object(7)\n",
      "memory usage: 120.5+ KB\n"
     ]
    }
   ],
   "source": [
    "df.info()"
   ]
  },
  {
   "cell_type": "code",
   "execution_count": 142,
   "id": "6b5ee11d",
   "metadata": {},
   "outputs": [
    {
     "data": {
      "text/plain": [
       "imdbId           0\n",
       "title            0\n",
       "releaseYear      0\n",
       "releaseDate     53\n",
       "genre            2\n",
       "writers        119\n",
       "actors           3\n",
       "directors        4\n",
       "sequel           3\n",
       "rating           0\n",
       "budget         570\n",
       "gross          102\n",
       "dtype: int64"
      ]
     },
     "execution_count": 142,
     "metadata": {},
     "output_type": "execute_result"
    }
   ],
   "source": [
    "df.isna().sum()"
   ]
  },
  {
   "cell_type": "code",
   "execution_count": 143,
   "id": "437e9f6b",
   "metadata": {},
   "outputs": [
    {
     "data": {
      "text/plain": [
       "array(['Romance', 'Adventure | Drama | Musical', 'Action | Comedy',\n",
       "       'Drama | Romance', 'Action | Comedy | Drama', 'Musical | Romance',\n",
       "       'Action | Drama | Romance', 'Drama | Musical | Romance',\n",
       "       'Comedy | Drama | Musical', 'Musical | Drama | Romance',\n",
       "       'Adventure | Biography | Drama', 'Action | Crime | Drama',\n",
       "       'Crime | Drama', 'Drama | Family', 'Action',\n",
       "       'Comedy | Musical | Family', 'Musical | Romance | Drama', 'Drama',\n",
       "       'Crime | Mystery | Thriller', 'Comedy', 'Crime | Drama | Romance',\n",
       "       'Comedy | Fantasy | Music', 'Thriller', 'Comedy | Crime | Romance',\n",
       "       'Thriller | Mystery', 'Drama | Action', 'Comedy | Drama',\n",
       "       'Musical', 'Romance |Drama', 'Drama | Musical | Crime',\n",
       "       'Drama | Mystery', 'Documentary', 'Action | Crime | Thriller',\n",
       "       'Action | Drama | Thriller', 'Drama | Thriller',\n",
       "       'Biography | Drama', 'Action | Drama', 'Comedy | Thriller | Crime',\n",
       "       'Musical | Romance | Thriller', 'Musical | Comedy',\n",
       "       'Action | Romance', 'Action | Drama | Mystery',\n",
       "       'Drama | Thriller | War', 'Comedy | Musical | Romance',\n",
       "       'Comedy | Romance', 'Mystery | Thriller', 'Crime', 'Action |Crime',\n",
       "       'Romance | Thriller', 'Musical | Action',\n",
       "       'Musical | Action | Drama', 'Adventure | Drama | Crime',\n",
       "       'Action | Comedy | Crime', 'Biography | Drama | History',\n",
       "       'Adventure | Fantasy | Thriller', 'War | Drama | Romance',\n",
       "       'Action | Musical | Mystery', 'Romance | Action | Drama',\n",
       "       'Comedy | Romance | Musical', 'Action | Fantasy | Horror',\n",
       "       'Family | Romance', 'Drama | Musical', 'Comedy | Drama | Romance',\n",
       "       'Drama | Family | Romance', 'Action | Crime | Mystery',\n",
       "       'Drama | Comedy', 'Action | Thriller | Drama',\n",
       "       'Comedy | Drama | Fantasy', 'Romance |Drama |Musical',\n",
       "       'Action | Thriller | Crime', 'Crime | Thriller | Drama',\n",
       "       'Action | Adventure | Crime', 'Action | Thriller',\n",
       "       'Comedy | Thriller', 'Action | Musical | Drama',\n",
       "       'Horror | Thriller', 'Family', 'Crime | Drama | Thriller',\n",
       "       'Action | Adventure | Drama', 'Drama | War',\n",
       "       'Action | Comedy | Romance', 'Drama | Family | Musical',\n",
       "       'Drama | Horror | Mystery', 'Drama | Romance | Thriller',\n",
       "       'Horror | Adventure', 'Action |Romance',\n",
       "       'Drama | Romance | Musical', 'Crime | Romance | Thriller',\n",
       "       'Family | Musical | Romance', 'Horror | Mystery',\n",
       "       'Adventure | Thriller', 'Action | Comedy | Musical',\n",
       "       'Crime | Thriller', 'Romance | Action | Adventure',\n",
       "       'Action | Romance | Thriller', 'Crime | Romance',\n",
       "       'Fantasy | Sci-Fi', 'Fantasy | Family', 'Action | Drama | Horror',\n",
       "       'Comedy | Crime', 'Action | Crime', 'Drama | Romance | Comedy',\n",
       "       'Romance | Comedy', 'Romance |Musical |Drama',\n",
       "       'Comedy | Action | Crime', 'War | Action | Drama',\n",
       "       'Drama | History | Romance', 'Romance | Drama',\n",
       "       'Horror | Drama | Mystery', 'Comedy | Crime | Mystery',\n",
       "       'Comedy | Fantasy | Horror', 'Fantasy',\n",
       "       'Thriller | Adventure | Mystery', 'Musical | Action | Crime',\n",
       "       'Music | Romance', 'Action | Adventure | Thriller',\n",
       "       'Adventure | Romance | Thriller', 'Adventure | Musical | Romance',\n",
       "       'Musical | Drama', 'Musical | Mystery | Drama',\n",
       "       'Action | Crime | Fantasy', 'Action | Adventure | Romance',\n",
       "       'Musical | Drama | Family', 'Romance | Mystery | Drama',\n",
       "       'Mystery | Romance | Thriller', 'Action | Drama | War',\n",
       "       'Adventure | Comedy | Crime', 'Action | Adventure | Biography',\n",
       "       'Fantasy | Romance', 'Comedy | Mystery',\n",
       "       'Comedy | Crime | Thriller', 'Drama | Mystery | Thriller',\n",
       "       'Comedy | Family | Romance', 'Comedy | Crime | Drama',\n",
       "       'Action | Adventure | Comedy', 'Comedy | Family | Musical',\n",
       "       'Comedy | Romance | Thriller', 'Comedy | Drama | Family',\n",
       "       'Comedy | Drama | Thriller', 'Comedy | Mystery | Thriller',\n",
       "       'Horror', 'Mystery', 'Animation', 'Crime | Drama | Mystery',\n",
       "       'Biography | Drama | Musical', 'Comedy | Mystery | Romance',\n",
       "       'Action | Adventure', 'Drama | Sport', 'Adventure | Crime | Drama',\n",
       "       'Biography | Drama | Romance', 'Drama | History',\n",
       "       'Crime | Drama | Family', 'Action | Crime | Musical',\n",
       "       'Drama | Horror | Thriller', 'Drama | Horror | Romance',\n",
       "       'Comedy | Horror | Mystery', 'Action | Sci-Fi',\n",
       "       'Animation | Comedy | Family', 'Sport', 'Action | Drama | Musical',\n",
       "       'Animation | Action | Adventure', 'Comedy | Drama | Sport',\n",
       "       'Drama | Mystery | Romance', 'Drama | Music',\n",
       "       'Comedy | Drama | Horror', 'Animation | Family',\n",
       "       'Action | Drama | Sport', 'Drama | Fantasy | Musical',\n",
       "       'Action | Crime | Romance', 'Crime | Drama | History',\n",
       "       'Crime | Mystery | Romance', 'Crime | Drama | Musical',\n",
       "       'Action | Adventure | Sci-Fi', 'Adventure | Comedy | Drama',\n",
       "       'Comedy | Family', 'Crime | Drama | Sport',\n",
       "       'Drama | Fantasy | Mystery', 'Comedy | Horror | Romance',\n",
       "       'Drama | Fantasy | Horror', 'Action | Drama | History',\n",
       "       'Documentary | Biography | Family', 'Animation | Comedy | Drama',\n",
       "       'Music | Musical', 'Horror | Mystery | Thriller',\n",
       "       'Adventure | Drama', 'Action | Adventure | Fantasy',\n",
       "       'Comedy | Sci-Fi', 'Biography | Comedy | Drama',\n",
       "       'Comedy | Musical', 'Drama | History | War',\n",
       "       'Drama | Sport | Thriller', 'Animation | Adventure | Drama',\n",
       "       'Adventure | Romance', 'Crime | Family | Sport',\n",
       "       'Horror | Romance | Thriller', 'Drama | Horror', 'Action | War',\n",
       "       'Drama | Music | Musical', 'Comedy | Drama | Sci-Fi', 'History',\n",
       "       'Sci-Fi', 'Adventure | Horror | Mystery',\n",
       "       'Animation | Drama | Musical', 'Music | Western',\n",
       "       'Drama | Family | Mystery', 'Short | Drama',\n",
       "       'Horror | Sci-Fi | Thriller', 'Drama | Romance | Sport',\n",
       "       'Action |Drama |Adventure', 'Animation | Adventure | Fantasy',\n",
       "       'Biography | Drama | Sport', 'Animation | Action',\n",
       "       'Drama | Family | Sport', 'Horror | Sci-Fi', 'Horror | Romance',\n",
       "       nan], dtype=object)"
      ]
     },
     "execution_count": 143,
     "metadata": {},
     "output_type": "execute_result"
    }
   ],
   "source": [
    "df['genre'].unique()"
   ]
  },
  {
   "cell_type": "code",
   "execution_count": 144,
   "id": "f1c2711a",
   "metadata": {},
   "outputs": [],
   "source": [
    "df['genre'].fillna(df['genre'].mode()[0], inplace=True)\n",
    "df['writers'].fillna(df['writers'].mode()[0], inplace=True)\n",
    "df['actors'].fillna(df['actors'].mode()[0], inplace=True)\n",
    "df['directors'].fillna(df['directors'].mode()[0], inplace=True)\n",
    "df['sequel'].fillna(df['sequel'].mean(), inplace=True)\n",
    "df['budget'].fillna(df['budget'].mean(), inplace=True)\n",
    "df['gross'].fillna(df['gross'].mean(), inplace=True)"
   ]
  },
  {
   "cell_type": "code",
   "execution_count": 145,
   "id": "92731c2c",
   "metadata": {},
   "outputs": [
    {
     "data": {
      "text/plain": [
       "imdbId          0\n",
       "title           0\n",
       "releaseYear     0\n",
       "releaseDate    53\n",
       "genre           0\n",
       "writers         0\n",
       "actors          0\n",
       "directors       0\n",
       "sequel          0\n",
       "rating          0\n",
       "budget          0\n",
       "gross           0\n",
       "dtype: int64"
      ]
     },
     "execution_count": 145,
     "metadata": {},
     "output_type": "execute_result"
    }
   ],
   "source": [
    "df.isna().sum()"
   ]
  },
  {
   "cell_type": "code",
   "execution_count": 146,
   "id": "1749692a",
   "metadata": {},
   "outputs": [
    {
     "data": {
      "text/html": [
       "<div>\n",
       "<style scoped>\n",
       "    .dataframe tbody tr th:only-of-type {\n",
       "        vertical-align: middle;\n",
       "    }\n",
       "\n",
       "    .dataframe tbody tr th {\n",
       "        vertical-align: top;\n",
       "    }\n",
       "\n",
       "    .dataframe thead th {\n",
       "        text-align: right;\n",
       "    }\n",
       "</style>\n",
       "<table border=\"1\" class=\"dataframe\">\n",
       "  <thead>\n",
       "    <tr style=\"text-align: right;\">\n",
       "      <th></th>\n",
       "      <th>imdbId</th>\n",
       "      <th>title</th>\n",
       "      <th>releaseYear</th>\n",
       "      <th>genre</th>\n",
       "      <th>writers</th>\n",
       "      <th>actors</th>\n",
       "      <th>directors</th>\n",
       "      <th>sequel</th>\n",
       "      <th>rating</th>\n",
       "      <th>budget</th>\n",
       "      <th>gross</th>\n",
       "    </tr>\n",
       "  </thead>\n",
       "  <tbody>\n",
       "    <tr>\n",
       "      <th>0</th>\n",
       "      <td>tt0118578</td>\n",
       "      <td>Albela</td>\n",
       "      <td>2001</td>\n",
       "      <td>Romance</td>\n",
       "      <td>Honey Irani (screenplay) | Honey Irani (story)...</td>\n",
       "      <td>Govinda | Aishwarya Rai Bachchan | Jackie Shro...</td>\n",
       "      <td>Deepak Sareen</td>\n",
       "      <td>0.0</td>\n",
       "      <td>2</td>\n",
       "      <td>19000000.0</td>\n",
       "      <td>46998772.0</td>\n",
       "    </tr>\n",
       "    <tr>\n",
       "      <th>1</th>\n",
       "      <td>tt0169102</td>\n",
       "      <td>Lagaan: Once Upon a Time in India</td>\n",
       "      <td>2001</td>\n",
       "      <td>Adventure | Drama | Musical</td>\n",
       "      <td>Ashutosh Gowariker (story) | Ashutosh Gowarike...</td>\n",
       "      <td>Aamir Khan | Gracy Singh | Rachel Shelley | Pa...</td>\n",
       "      <td>Ashutosh Gowariker</td>\n",
       "      <td>0.0</td>\n",
       "      <td>6</td>\n",
       "      <td>4500000.0</td>\n",
       "      <td>58853106.0</td>\n",
       "    </tr>\n",
       "  </tbody>\n",
       "</table>\n",
       "</div>"
      ],
      "text/plain": [
       "      imdbId                              title  releaseYear  \\\n",
       "0  tt0118578                             Albela         2001   \n",
       "1  tt0169102  Lagaan: Once Upon a Time in India         2001   \n",
       "\n",
       "                         genre  \\\n",
       "0                      Romance   \n",
       "1  Adventure | Drama | Musical   \n",
       "\n",
       "                                             writers  \\\n",
       "0  Honey Irani (screenplay) | Honey Irani (story)...   \n",
       "1  Ashutosh Gowariker (story) | Ashutosh Gowarike...   \n",
       "\n",
       "                                              actors           directors  \\\n",
       "0  Govinda | Aishwarya Rai Bachchan | Jackie Shro...       Deepak Sareen   \n",
       "1  Aamir Khan | Gracy Singh | Rachel Shelley | Pa...  Ashutosh Gowariker   \n",
       "\n",
       "   sequel  rating      budget       gross  \n",
       "0     0.0       2  19000000.0  46998772.0  \n",
       "1     0.0       6   4500000.0  58853106.0  "
      ]
     },
     "execution_count": 146,
     "metadata": {},
     "output_type": "execute_result"
    }
   ],
   "source": [
    "df.drop(['releaseDate'],axis=1,inplace=True)\n",
    "df.head(2)"
   ]
  },
  {
   "cell_type": "code",
   "execution_count": 159,
   "id": "2c846a33",
   "metadata": {},
   "outputs": [
    {
     "name": "stdout",
     "output_type": "stream",
     "text": [
      "<class 'pandas.core.frame.DataFrame'>\n",
      "RangeIndex: 1284 entries, 0 to 1283\n",
      "Data columns (total 11 columns):\n",
      " #   Column       Non-Null Count  Dtype  \n",
      "---  ------       --------------  -----  \n",
      " 0   imdbId       1284 non-null   object \n",
      " 1   title        1284 non-null   object \n",
      " 2   releaseYear  1284 non-null   int64  \n",
      " 3   genre        1284 non-null   object \n",
      " 4   writers      1284 non-null   object \n",
      " 5   actors       1284 non-null   object \n",
      " 6   directors    1284 non-null   object \n",
      " 7   sequel       1284 non-null   float64\n",
      " 8   rating       1284 non-null   int64  \n",
      " 9   budget       1284 non-null   float64\n",
      " 10  gross        1284 non-null   float64\n",
      "dtypes: float64(3), int64(2), object(6)\n",
      "memory usage: 110.5+ KB\n"
     ]
    }
   ],
   "source": [
    "df.info()"
   ]
  },
  {
   "cell_type": "code",
   "execution_count": 148,
   "id": "39275ddb",
   "metadata": {},
   "outputs": [],
   "source": [
    "import statsmodels.api as sm\n",
    "from statsmodels.formula.api import ols\n",
    "import statsmodels.stats.multicomp as mc\n",
    "from statsmodels.stats.multicomp import MultiComparison\n",
    "from statsmodels.stats.multicomp import pairwise_tukeyhsd\n",
    "from statsmodels.multivariate.manova import MANOVA"
   ]
  },
  {
   "cell_type": "code",
   "execution_count": 149,
   "id": "47e60135",
   "metadata": {},
   "outputs": [],
   "source": [
    "#h0: no difference\n",
    "#ha: significant difference\n",
    "#alpha=0.05\n",
    "#p<alpha, reject h0. it means that there is a significant difference"
   ]
  },
  {
   "cell_type": "code",
   "execution_count": 151,
   "id": "85bab536",
   "metadata": {},
   "outputs": [],
   "source": [
    "# Does the genre of a movie have a significant effect on its budget? no."
   ]
  },
  {
   "cell_type": "code",
   "execution_count": 161,
   "id": "2f97668c",
   "metadata": {},
   "outputs": [
    {
     "data": {
      "text/html": [
       "<div>\n",
       "<style scoped>\n",
       "    .dataframe tbody tr th:only-of-type {\n",
       "        vertical-align: middle;\n",
       "    }\n",
       "\n",
       "    .dataframe tbody tr th {\n",
       "        vertical-align: top;\n",
       "    }\n",
       "\n",
       "    .dataframe thead th {\n",
       "        text-align: right;\n",
       "    }\n",
       "</style>\n",
       "<table border=\"1\" class=\"dataframe\">\n",
       "  <thead>\n",
       "    <tr style=\"text-align: right;\">\n",
       "      <th></th>\n",
       "      <th>df</th>\n",
       "      <th>sum_sq</th>\n",
       "      <th>mean_sq</th>\n",
       "      <th>F</th>\n",
       "      <th>PR(&gt;F)</th>\n",
       "    </tr>\n",
       "  </thead>\n",
       "  <tbody>\n",
       "    <tr>\n",
       "      <th>genre</th>\n",
       "      <td>214.0</td>\n",
       "      <td>8.706987e+15</td>\n",
       "      <td>4.068685e+13</td>\n",
       "      <td>0.705755</td>\n",
       "      <td>0.999151</td>\n",
       "    </tr>\n",
       "    <tr>\n",
       "      <th>Residual</th>\n",
       "      <td>1069.0</td>\n",
       "      <td>6.162795e+16</td>\n",
       "      <td>5.765009e+13</td>\n",
       "      <td>NaN</td>\n",
       "      <td>NaN</td>\n",
       "    </tr>\n",
       "  </tbody>\n",
       "</table>\n",
       "</div>"
      ],
      "text/plain": [
       "              df        sum_sq       mean_sq         F    PR(>F)\n",
       "genre      214.0  8.706987e+15  4.068685e+13  0.705755  0.999151\n",
       "Residual  1069.0  6.162795e+16  5.765009e+13       NaN       NaN"
      ]
     },
     "execution_count": 161,
     "metadata": {},
     "output_type": "execute_result"
    }
   ],
   "source": [
    "model1=ols(\"budget~genre\",data=df).fit() \n",
    "anova_result=sm.stats.anova_lm(model1,type=1)\n",
    "anova_result"
   ]
  },
  {
   "cell_type": "code",
   "execution_count": 170,
   "id": "456e1b8f",
   "metadata": {},
   "outputs": [],
   "source": [
    "#Does the budget of a movie have a significant effect on its gross earnings? "
   ]
  },
  {
   "cell_type": "code",
   "execution_count": 162,
   "id": "3b063b8e",
   "metadata": {},
   "outputs": [
    {
     "data": {
      "text/html": [
       "<table class=\"simpletable\">\n",
       "<caption>OLS Regression Results</caption>\n",
       "<tr>\n",
       "  <th>Dep. Variable:</th>          <td>gross</td>      <th>  R-squared:         </th> <td>   0.076</td> \n",
       "</tr>\n",
       "<tr>\n",
       "  <th>Model:</th>                   <td>OLS</td>       <th>  Adj. R-squared:    </th> <td>   0.075</td> \n",
       "</tr>\n",
       "<tr>\n",
       "  <th>Method:</th>             <td>Least Squares</td>  <th>  F-statistic:       </th> <td>   105.7</td> \n",
       "</tr>\n",
       "<tr>\n",
       "  <th>Date:</th>             <td>Thu, 13 Apr 2023</td> <th>  Prob (F-statistic):</th> <td>7.07e-24</td> \n",
       "</tr>\n",
       "<tr>\n",
       "  <th>Time:</th>                 <td>02:49:32</td>     <th>  Log-Likelihood:    </th> <td> -24557.</td> \n",
       "</tr>\n",
       "<tr>\n",
       "  <th>No. Observations:</th>      <td>  1284</td>      <th>  AIC:               </th> <td>4.912e+04</td>\n",
       "</tr>\n",
       "<tr>\n",
       "  <th>Df Residuals:</th>          <td>  1282</td>      <th>  BIC:               </th> <td>4.913e+04</td>\n",
       "</tr>\n",
       "<tr>\n",
       "  <th>Df Model:</th>              <td>     1</td>      <th>                     </th>     <td> </td>    \n",
       "</tr>\n",
       "<tr>\n",
       "  <th>Covariance Type:</th>      <td>nonrobust</td>    <th>                     </th>     <td> </td>    \n",
       "</tr>\n",
       "</table>\n",
       "<table class=\"simpletable\">\n",
       "<tr>\n",
       "      <td></td>         <th>coef</th>     <th>std err</th>      <th>t</th>      <th>P>|t|</th>  <th>[0.025</th>    <th>0.975]</th>  \n",
       "</tr>\n",
       "<tr>\n",
       "  <th>Intercept</th> <td> 1.491e+06</td> <td> 2.63e+06</td> <td>    0.568</td> <td> 0.570</td> <td>-3.66e+06</td> <td> 6.64e+06</td>\n",
       "</tr>\n",
       "<tr>\n",
       "  <th>budget</th>    <td>    1.8996</td> <td>    0.185</td> <td>   10.281</td> <td> 0.000</td> <td>    1.537</td> <td>    2.262</td>\n",
       "</tr>\n",
       "</table>\n",
       "<table class=\"simpletable\">\n",
       "<tr>\n",
       "  <th>Omnibus:</th>       <td>1652.254</td> <th>  Durbin-Watson:     </th>  <td>   1.648</td> \n",
       "</tr>\n",
       "<tr>\n",
       "  <th>Prob(Omnibus):</th>  <td> 0.000</td>  <th>  Jarque-Bera (JB):  </th> <td>285627.491</td>\n",
       "</tr>\n",
       "<tr>\n",
       "  <th>Skew:</th>           <td> 6.816</td>  <th>  Prob(JB):          </th>  <td>    0.00</td> \n",
       "</tr>\n",
       "<tr>\n",
       "  <th>Kurtosis:</th>       <td>74.784</td>  <th>  Cond. No.          </th>  <td>2.73e+07</td> \n",
       "</tr>\n",
       "</table><br/><br/>Notes:<br/>[1] Standard Errors assume that the covariance matrix of the errors is correctly specified.<br/>[2] The condition number is large, 2.73e+07. This might indicate that there are<br/>strong multicollinearity or other numerical problems."
      ],
      "text/plain": [
       "<class 'statsmodels.iolib.summary.Summary'>\n",
       "\"\"\"\n",
       "                            OLS Regression Results                            \n",
       "==============================================================================\n",
       "Dep. Variable:                  gross   R-squared:                       0.076\n",
       "Model:                            OLS   Adj. R-squared:                  0.075\n",
       "Method:                 Least Squares   F-statistic:                     105.7\n",
       "Date:                Thu, 13 Apr 2023   Prob (F-statistic):           7.07e-24\n",
       "Time:                        02:49:32   Log-Likelihood:                -24557.\n",
       "No. Observations:                1284   AIC:                         4.912e+04\n",
       "Df Residuals:                    1282   BIC:                         4.913e+04\n",
       "Df Model:                           1                                         \n",
       "Covariance Type:            nonrobust                                         \n",
       "==============================================================================\n",
       "                 coef    std err          t      P>|t|      [0.025      0.975]\n",
       "------------------------------------------------------------------------------\n",
       "Intercept   1.491e+06   2.63e+06      0.568      0.570   -3.66e+06    6.64e+06\n",
       "budget         1.8996      0.185     10.281      0.000       1.537       2.262\n",
       "==============================================================================\n",
       "Omnibus:                     1652.254   Durbin-Watson:                   1.648\n",
       "Prob(Omnibus):                  0.000   Jarque-Bera (JB):           285627.491\n",
       "Skew:                           6.816   Prob(JB):                         0.00\n",
       "Kurtosis:                      74.784   Cond. No.                     2.73e+07\n",
       "==============================================================================\n",
       "\n",
       "Notes:\n",
       "[1] Standard Errors assume that the covariance matrix of the errors is correctly specified.\n",
       "[2] The condition number is large, 2.73e+07. This might indicate that there are\n",
       "strong multicollinearity or other numerical problems.\n",
       "\"\"\""
      ]
     },
     "execution_count": 162,
     "metadata": {},
     "output_type": "execute_result"
    }
   ],
   "source": [
    "model2=smf.ols(\"gross~budget\",data=df).fit()\n",
    "model2.summary()\n",
    "#anova_result=sm.stats.anova_lm(model2,type=1)\n",
    "#anova_result"
   ]
  },
  {
   "cell_type": "code",
   "execution_count": 172,
   "id": "03737ddf",
   "metadata": {},
   "outputs": [],
   "source": [
    "#Is there a significant difference in the mean ratings of movies across different genres? yes.\n"
   ]
  },
  {
   "cell_type": "code",
   "execution_count": 166,
   "id": "c73b5e4e",
   "metadata": {},
   "outputs": [
    {
     "data": {
      "text/html": [
       "<div>\n",
       "<style scoped>\n",
       "    .dataframe tbody tr th:only-of-type {\n",
       "        vertical-align: middle;\n",
       "    }\n",
       "\n",
       "    .dataframe tbody tr th {\n",
       "        vertical-align: top;\n",
       "    }\n",
       "\n",
       "    .dataframe thead th {\n",
       "        text-align: right;\n",
       "    }\n",
       "</style>\n",
       "<table border=\"1\" class=\"dataframe\">\n",
       "  <thead>\n",
       "    <tr style=\"text-align: right;\">\n",
       "      <th></th>\n",
       "      <th>df</th>\n",
       "      <th>sum_sq</th>\n",
       "      <th>mean_sq</th>\n",
       "      <th>F</th>\n",
       "      <th>PR(&gt;F)</th>\n",
       "    </tr>\n",
       "  </thead>\n",
       "  <tbody>\n",
       "    <tr>\n",
       "      <th>genre</th>\n",
       "      <td>214.0</td>\n",
       "      <td>1065.108234</td>\n",
       "      <td>4.977141</td>\n",
       "      <td>1.688405</td>\n",
       "      <td>7.517998e-08</td>\n",
       "    </tr>\n",
       "    <tr>\n",
       "      <th>Residual</th>\n",
       "      <td>1069.0</td>\n",
       "      <td>3151.236782</td>\n",
       "      <td>2.947836</td>\n",
       "      <td>NaN</td>\n",
       "      <td>NaN</td>\n",
       "    </tr>\n",
       "  </tbody>\n",
       "</table>\n",
       "</div>"
      ],
      "text/plain": [
       "              df       sum_sq   mean_sq         F        PR(>F)\n",
       "genre      214.0  1065.108234  4.977141  1.688405  7.517998e-08\n",
       "Residual  1069.0  3151.236782  2.947836       NaN           NaN"
      ]
     },
     "execution_count": 166,
     "metadata": {},
     "output_type": "execute_result"
    }
   ],
   "source": [
    "model2=ols(\"rating~genre\",data=df).fit() \n",
    "anova_result=sm.stats.anova_lm(model2,type=1)\n",
    "anova_result"
   ]
  },
  {
   "cell_type": "code",
   "execution_count": 180,
   "id": "8b60c8a1",
   "metadata": {},
   "outputs": [],
   "source": [
    "#Is there a significant difference in the mean ratings of movies directed by different directors? yes."
   ]
  },
  {
   "cell_type": "code",
   "execution_count": 167,
   "id": "23305266",
   "metadata": {},
   "outputs": [
    {
     "data": {
      "text/html": [
       "<div>\n",
       "<style scoped>\n",
       "    .dataframe tbody tr th:only-of-type {\n",
       "        vertical-align: middle;\n",
       "    }\n",
       "\n",
       "    .dataframe tbody tr th {\n",
       "        vertical-align: top;\n",
       "    }\n",
       "\n",
       "    .dataframe thead th {\n",
       "        text-align: right;\n",
       "    }\n",
       "</style>\n",
       "<table border=\"1\" class=\"dataframe\">\n",
       "  <thead>\n",
       "    <tr style=\"text-align: right;\">\n",
       "      <th></th>\n",
       "      <th>df</th>\n",
       "      <th>sum_sq</th>\n",
       "      <th>mean_sq</th>\n",
       "      <th>F</th>\n",
       "      <th>PR(&gt;F)</th>\n",
       "    </tr>\n",
       "  </thead>\n",
       "  <tbody>\n",
       "    <tr>\n",
       "      <th>directors</th>\n",
       "      <td>730.0</td>\n",
       "      <td>2684.564898</td>\n",
       "      <td>3.677486</td>\n",
       "      <td>1.327638</td>\n",
       "      <td>0.000215</td>\n",
       "    </tr>\n",
       "    <tr>\n",
       "      <th>Residual</th>\n",
       "      <td>553.0</td>\n",
       "      <td>1531.780117</td>\n",
       "      <td>2.769946</td>\n",
       "      <td>NaN</td>\n",
       "      <td>NaN</td>\n",
       "    </tr>\n",
       "  </tbody>\n",
       "</table>\n",
       "</div>"
      ],
      "text/plain": [
       "              df       sum_sq   mean_sq         F    PR(>F)\n",
       "directors  730.0  2684.564898  3.677486  1.327638  0.000215\n",
       "Residual   553.0  1531.780117  2.769946       NaN       NaN"
      ]
     },
     "execution_count": 167,
     "metadata": {},
     "output_type": "execute_result"
    }
   ],
   "source": [
    "model2=ols(\"rating~directors\",data=df).fit() \n",
    "anova_result=sm.stats.anova_lm(model2,type=1)\n",
    "anova_result"
   ]
  },
  {
   "cell_type": "code",
   "execution_count": 174,
   "id": "d89d16b2",
   "metadata": {},
   "outputs": [],
   "source": [
    "#Is there a significant difference in the mean ratings of movies directed by different writers? yes."
   ]
  },
  {
   "cell_type": "code",
   "execution_count": 169,
   "id": "1eda86ee",
   "metadata": {},
   "outputs": [
    {
     "data": {
      "text/html": [
       "<div>\n",
       "<style scoped>\n",
       "    .dataframe tbody tr th:only-of-type {\n",
       "        vertical-align: middle;\n",
       "    }\n",
       "\n",
       "    .dataframe tbody tr th {\n",
       "        vertical-align: top;\n",
       "    }\n",
       "\n",
       "    .dataframe thead th {\n",
       "        text-align: right;\n",
       "    }\n",
       "</style>\n",
       "<table border=\"1\" class=\"dataframe\">\n",
       "  <thead>\n",
       "    <tr style=\"text-align: right;\">\n",
       "      <th></th>\n",
       "      <th>df</th>\n",
       "      <th>sum_sq</th>\n",
       "      <th>mean_sq</th>\n",
       "      <th>F</th>\n",
       "      <th>PR(&gt;F)</th>\n",
       "    </tr>\n",
       "  </thead>\n",
       "  <tbody>\n",
       "    <tr>\n",
       "      <th>writers</th>\n",
       "      <td>1108.0</td>\n",
       "      <td>3952.046349</td>\n",
       "      <td>3.566829</td>\n",
       "      <td>2.361703</td>\n",
       "      <td>1.048822e-11</td>\n",
       "    </tr>\n",
       "    <tr>\n",
       "      <th>Residual</th>\n",
       "      <td>175.0</td>\n",
       "      <td>264.298667</td>\n",
       "      <td>1.510278</td>\n",
       "      <td>NaN</td>\n",
       "      <td>NaN</td>\n",
       "    </tr>\n",
       "  </tbody>\n",
       "</table>\n",
       "</div>"
      ],
      "text/plain": [
       "              df       sum_sq   mean_sq         F        PR(>F)\n",
       "writers   1108.0  3952.046349  3.566829  2.361703  1.048822e-11\n",
       "Residual   175.0   264.298667  1.510278       NaN           NaN"
      ]
     },
     "execution_count": 169,
     "metadata": {},
     "output_type": "execute_result"
    }
   ],
   "source": [
    "model2=ols(\"rating~writers\",data=df).fit() \n",
    "anova_result=sm.stats.anova_lm(model2,type=1)\n",
    "anova_result"
   ]
  },
  {
   "cell_type": "code",
   "execution_count": 175,
   "id": "b586f322",
   "metadata": {},
   "outputs": [],
   "source": [
    "#Is there a significant difference in the mean ratings of movies starring different actors? yes."
   ]
  },
  {
   "cell_type": "code",
   "execution_count": 168,
   "id": "308785e1",
   "metadata": {},
   "outputs": [
    {
     "data": {
      "text/html": [
       "<div>\n",
       "<style scoped>\n",
       "    .dataframe tbody tr th:only-of-type {\n",
       "        vertical-align: middle;\n",
       "    }\n",
       "\n",
       "    .dataframe tbody tr th {\n",
       "        vertical-align: top;\n",
       "    }\n",
       "\n",
       "    .dataframe thead th {\n",
       "        text-align: right;\n",
       "    }\n",
       "</style>\n",
       "<table border=\"1\" class=\"dataframe\">\n",
       "  <thead>\n",
       "    <tr style=\"text-align: right;\">\n",
       "      <th></th>\n",
       "      <th>df</th>\n",
       "      <th>sum_sq</th>\n",
       "      <th>mean_sq</th>\n",
       "      <th>F</th>\n",
       "      <th>PR(&gt;F)</th>\n",
       "    </tr>\n",
       "  </thead>\n",
       "  <tbody>\n",
       "    <tr>\n",
       "      <th>actors</th>\n",
       "      <td>1280.0</td>\n",
       "      <td>4.216345e+03</td>\n",
       "      <td>3.294020e+00</td>\n",
       "      <td>2.664959e+24</td>\n",
       "      <td>3.178478e-37</td>\n",
       "    </tr>\n",
       "    <tr>\n",
       "      <th>Residual</th>\n",
       "      <td>3.0</td>\n",
       "      <td>3.708147e-24</td>\n",
       "      <td>1.236049e-24</td>\n",
       "      <td>NaN</td>\n",
       "      <td>NaN</td>\n",
       "    </tr>\n",
       "  </tbody>\n",
       "</table>\n",
       "</div>"
      ],
      "text/plain": [
       "              df        sum_sq       mean_sq             F        PR(>F)\n",
       "actors    1280.0  4.216345e+03  3.294020e+00  2.664959e+24  3.178478e-37\n",
       "Residual     3.0  3.708147e-24  1.236049e-24           NaN           NaN"
      ]
     },
     "execution_count": 168,
     "metadata": {},
     "output_type": "execute_result"
    }
   ],
   "source": [
    "model2=ols(\"rating~actors\",data=df).fit() \n",
    "anova_result=sm.stats.anova_lm(model2,type=1)\n",
    "anova_result"
   ]
  },
  {
   "cell_type": "code",
   "execution_count": 209,
   "id": "23273b1f",
   "metadata": {},
   "outputs": [],
   "source": [
    "import matplotlib.pyplot as plt\n",
    "import seaborn as sns\n"
   ]
  },
  {
   "cell_type": "code",
   "execution_count": 210,
   "id": "98aa4d55",
   "metadata": {},
   "outputs": [
    {
     "data": {
      "image/png": "[encoded data removed]",
      "text/plain": [
       "<Figure size 640x480 with 1 Axes>"
      ]
     },
     "metadata": {},
     "output_type": "display_data"
    }
   ],
   "source": [
    "# Visualising the graph between budget and gross\n",
    "\n",
    "# scatterplot of 'budget' vs 'gross'\n",
    "df.plot.scatter(x='budget', y='gross')\n",
    "plt.title('Budget vs Gross Regression Analysis')\n",
    "plt.xlabel('Budget')\n",
    "plt.ylabel('Gross')\n",
    "\n",
    "# using seaborn to see the line\n",
    "sns.regplot(x='budget', y = 'gross', data = df, scatter_kws={\"color\":\"black\"}, line_kws={\"color\":\"red\"})\n",
    "\n",
    "plt.show()"
   ]
  },
  {
   "cell_type": "code",
   "execution_count": 213,
   "id": "b81be504",
   "metadata": {},
   "outputs": [
    {
     "data": {
      "image/png": "[encoded data removed]",
      "text/plain": [
       "<Figure size 640x480 with 1 Axes>"
      ]
     },
     "metadata": {},
     "output_type": "display_data"
    }
   ],
   "source": [
    "# Group the DataFrame by year and calculate the mean gross\n",
    "yearly_gross = df.groupby('releaseYear')['gross'].mean().reset_index()\n",
    "\n",
    "# Plot the relationship between year and mean gross\n",
    "plt.plot(yearly_gross['releaseYear'], yearly_gross['gross'])\n",
    "plt.xlabel('releaseYear')\n",
    "plt.ylabel('Mean Gross')\n",
    "plt.title('Relationship between Year and Mean Gross')\n",
    "plt.show()"
   ]
  },
  {
   "cell_type": "code",
   "execution_count": 181,
   "id": "a2dbca0f",
   "metadata": {},
   "outputs": [],
   "source": [
    "import statsmodels.formula.api as smf\n",
    "import sklearn.linear_model as lm"
   ]
  },
  {
   "cell_type": "code",
   "execution_count": 198,
   "id": "4653a4f3",
   "metadata": {},
   "outputs": [],
   "source": [
    "import statsmodels.api as sm\n",
    "from sklearn.model_selection import train_test_split\n",
    "from sklearn.preprocessing import StandardScaler\n",
    "from statsmodels.stats.outliers_influence import variance_inflation_factor\n",
    "from sklearn.metrics import r2_score\n",
    "from sklearn.linear_model import LinearRegression"
   ]
  },
  {
   "cell_type": "code",
   "execution_count": 214,
   "id": "06446cb7",
   "metadata": {},
   "outputs": [
    {
     "name": "stdout",
     "output_type": "stream",
     "text": [
      "                            OLS Regression Results                            \n",
      "==============================================================================\n",
      "Dep. Variable:                  gross   R-squared:                       0.095\n",
      "Model:                            OLS   Adj. R-squared:                  0.094\n",
      "Method:                 Least Squares   F-statistic:                     107.5\n",
      "Date:                Thu, 13 Apr 2023   Prob (F-statistic):           5.10e-24\n",
      "Time:                        04:03:35   Log-Likelihood:                -19485.\n",
      "No. Observations:                1027   AIC:                         3.897e+04\n",
      "Df Residuals:                    1025   BIC:                         3.898e+04\n",
      "Df Model:                           1                                         \n",
      "Covariance Type:            nonrobust                                         \n",
      "==============================================================================\n",
      "                 coef    std err          t      P>|t|      [0.025      0.975]\n",
      "------------------------------------------------------------------------------\n",
      "const       2.339e+07   1.31e+06     17.820      0.000    2.08e+07     2.6e+07\n",
      "x1          1.361e+07   1.31e+06     10.368      0.000     1.1e+07    1.62e+07\n",
      "==============================================================================\n",
      "Omnibus:                     1115.061   Durbin-Watson:                   1.994\n",
      "Prob(Omnibus):                  0.000   Jarque-Bera (JB):            76370.368\n",
      "Skew:                           5.268   Prob(JB):                         0.00\n",
      "Kurtosis:                      43.911   Cond. No.                         1.00\n",
      "==============================================================================\n",
      "\n",
      "Notes:\n",
      "[1] Standard Errors assume that the covariance matrix of the errors is correctly specified.\n",
      "VIF: [1.0, 1.0000000000000004]\n",
      "[55285754.43023442 46401335.65527674 23528092.46168987 23528092.46168987\n",
      " 23528092.46168987 17971195.57541214  8198334.92295868 46401335.65527674\n",
      " 23528092.46168987 23528092.46168987 16194311.8204206  11396725.68194345\n",
      " 23528092.46168987 23528092.46168987 23528092.46168987 23528092.46168987\n",
      " 14417428.06542906 32186265.61534443 32186265.61534443 23528092.46168987\n",
      " 23528092.46168987  8198334.92295868 37516916.88031905 39293800.63531059\n",
      " 28632498.10536136 23528092.46168987 23528092.46168987 33963149.37033597\n",
      " 23301846.84038675 23528092.46168987  7309893.04546291 23528092.46168987\n",
      " 23528092.46168987 33963149.37033597  7309893.04546291 23528092.46168987\n",
      " 14417428.06542906 23528092.46168987 23528092.46168987 23528092.46168987\n",
      " 10863660.55544599 23528092.46168987 25078730.59537829 37516916.88031905\n",
      " 16194311.8204206  23301846.84038675 19748079.33040367 23528092.46168987\n",
      " 23528092.46168987 23528092.46168987 23528092.46168987 23528092.46168987\n",
      " 23528092.46168987 23528092.46168987 19748079.33040367 15305869.94292483\n",
      " 23528092.46168987  3933813.91097899 25078730.59537829  5533009.29047137\n",
      " 23528092.46168987 39293800.63531059  3223060.40898237 23528092.46168987\n",
      " 41070684.39030212 23528092.46168987 73054591.98014979 23301846.84038675\n",
      " 23528092.46168987 23528092.46168987 12640544.31043752 37516916.88031905\n",
      " 46401335.65527674 23528092.46168987 23528092.46168987 24190288.71788252\n",
      " 23528092.46168987 23528092.46168987 23528092.46168987 19748079.33040367\n",
      "  5533009.29047137 23528092.46168987 35740033.12532751 23528092.46168987\n",
      " 23528092.46168987  3311904.59673195  9086776.80045445 28810186.48086052\n",
      " 17082753.69791637 28632498.10536136 23528092.46168987 23528092.46168987\n",
      " 23528092.46168987 41070684.39030212 23528092.46168987 23528092.46168987\n",
      "  9086776.80045445 23528092.46168987  6599139.5434663  23528092.46168987\n",
      " 23528092.46168987 33963149.37033597 28632498.10536136 23528092.46168987\n",
      " 23528092.46168987 64170173.2051921  19748079.33040367 28632498.10536136\n",
      " 23528092.46168987 23528092.46168987 23528092.46168987 21524963.08539521\n",
      " 23528092.46168987 23528092.46168987 25078730.59537829 19748079.33040367\n",
      " 14417428.06542906 46401335.65527674 23528092.46168987 33963149.37033597\n",
      "  2601151.09473534 51731986.92025135 23528092.46168987  3933813.91097899\n",
      " 23528092.46168987 37516916.88031905 26500237.59937152 23528092.46168987\n",
      " 23528092.46168987 10863660.55544599 23528092.46168987 23528092.46168987\n",
      " 26855614.35036983 19748079.33040367 12640544.31043752 10508283.80444768\n",
      "  3756125.53547984 23528092.46168987 23528092.46168987 23528092.46168987\n",
      " 23528092.46168987 12640544.31043752 23301846.84038675 23528092.46168987\n",
      " 10863660.55544599 23528092.46168987 28632498.10536136 19748079.33040367\n",
      " 23528092.46168987 23528092.46168987 23528092.46168987 23528092.46168987\n",
      " 23528092.46168987 28632498.10536136  6421451.16796714 23528092.46168987\n",
      " 26855614.35036983 16194311.8204206  23528092.46168987 41070684.39030212\n",
      " 85492778.26509055 26855614.35036983 23528092.46168987 27744056.22786559\n",
      " 23528092.46168987 23528092.46168987 23528092.46168987  8198334.92295868\n",
      " 23528092.46168987  2156930.15598745 19748079.33040367 17971195.57541214\n",
      " 13528986.18793329 32186265.61534443 12640544.31043752 23528092.46168987\n",
      " 23528092.46168987 12640544.31043752 17971195.57541214 19748079.33040367\n",
      " 23528092.46168987 10863660.55544599 23528092.46168987 30409381.8603529\n",
      " 41070684.39030212 23528092.46168987 32186265.61534443 41070684.39030212\n",
      " 46401335.65527674 23528092.46168987 23528092.46168987 23528092.46168987\n",
      "  9086776.80045445 37516916.88031905 23528092.46168987 23528092.46168987\n",
      " 23528092.46168987 23528092.46168987 19748079.33040367 23301846.84038675\n",
      " 33963149.37033597 26855614.35036983 17971195.57541214 23528092.46168987\n",
      " 23528092.46168987 23528092.46168987 23528092.46168987 12640544.31043752\n",
      " 23528092.46168987 15305869.94292483 23528092.46168987 18859637.4529079\n",
      " 14417428.06542906 23528092.46168987 23528092.46168987 23528092.46168987\n",
      " 41070684.39030212 13528986.18793329 28632498.10536136 51731986.92025135\n",
      " 34851591.24783175 23528092.46168987 23528092.46168987 46401335.65527674\n",
      " 10863660.55544599 17615818.82441383 46401335.65527674 23528092.46168987\n",
      " 20636521.20789944 22413404.96289098 16194311.8204206  23528092.46168987\n",
      " 23528092.46168987 10863660.55544599 23528092.46168987 30409381.8603529\n",
      " 55285754.43023442 23528092.46168987 17971195.57541214 23528092.46168987\n",
      "  9975218.67795022 12640544.31043752 23528092.46168987 44624451.9002852\n",
      " 28632498.10536136 23528092.46168987 23528092.46168987 23528092.46168987\n",
      " 14417428.06542906 23528092.46168987  2068085.96823788 23528092.46168987\n",
      " 23528092.46168987 23528092.46168987 59727963.81771326 23528092.46168987\n",
      " 23528092.46168987]\n",
      "R-squared: 0.09491342276551773\n"
     ]
    }
   ],
   "source": [
    "#Trying a simple linear regression between gross and budget\n",
    "\n",
    "# column selection\n",
    "X = df[['budget']]\n",
    "y = df['gross']\n",
    "\n",
    "# splitting the data into training and testing sets\n",
    "X_train, X_test, y_train, y_test = train_test_split(X, y, test_size=0.2, random_state=42)\n",
    "\n",
    "# scaling the data\n",
    "scaler = StandardScaler()\n",
    "X_train_scaled = scaler.fit_transform(X_train)\n",
    "X_test_scaled = scaler.transform(X_test)\n",
    "\n",
    "# fit the linear regression model\n",
    "model = sm.OLS(y_train, sm.add_constant(X_train_scaled)).fit()\n",
    "\n",
    "# print the model summary\n",
    "print(model.summary())\n",
    "\n",
    "# calculate the VIF\n",
    "vif = [variance_inflation_factor(sm.add_constant(X_train_scaled), i) for i in range(sm.add_constant(X_train_scaled).shape[1])]\n",
    "print('VIF:', vif)\n",
    "\n",
    "# predict the gross earnings for the testing set\n",
    "y_pred = model.predict(sm.add_constant(X_test_scaled))\n",
    "print(y_pred)\n",
    "\n",
    "# calculate the R-squared value for the model\n",
    "r_squared = model.rsquared\n",
    "print('R-squared:', r_squared)"
   ]
  },
  {
   "cell_type": "code",
   "execution_count": 215,
   "id": "d4a69939",
   "metadata": {},
   "outputs": [
    {
     "name": "stdout",
     "output_type": "stream",
     "text": [
      "[[18542460.40394175]\n",
      " [18127895.40353167]\n",
      " [17713330.40312159]\n",
      " [17298765.40271151]\n",
      " [16884200.40230143]]\n"
     ]
    },
    {
     "data": {
      "image/png": "[encoded data removed]",
      "text/plain": [
       "<Figure size 640x480 with 1 Axes>"
      ]
     },
     "metadata": {},
     "output_type": "display_data"
    }
   ],
   "source": [
    "#\n",
    "\n",
    "# Group the DataFrame by year and calculate the mean gross\n",
    "yearly_gross = df.groupby('releaseYear')['gross'].mean().reset_index()\n",
    "\n",
    "# Split the data into training and testing sets\n",
    "X_train, X_test, y_train, y_test = train_test_split(yearly_gross['releaseYear'].values.reshape(-1, 1),\n",
    "                                                    yearly_gross['gross'].values.reshape(-1, 1),\n",
    "                                                    test_size=0.2,\n",
    "                                                    random_state=42)\n",
    "\n",
    "# Fit a linear regression model to the training data\n",
    "model = LinearRegression()\n",
    "model.fit(X_train, y_train)\n",
    "\n",
    "# Use the model to predict future values\n",
    "future_years = np.array([2022, 2023, 2024, 2025, 2026]).reshape(-1, 1)\n",
    "future_predictions = model.predict(future_years)\n",
    "print(future_predictions)\n",
    "\n",
    "# Plot the predicted values\n",
    "plt.plot(yearly_gross['releaseYear'], yearly_gross['gross'], label='Actual')\n",
    "plt.plot(future_years, future_predictions, label='Predicted')\n",
    "plt.xlabel('Year')\n",
    "plt.ylabel('Mean Gross')\n",
    "plt.title('Relationship between Year and Mean Gross')\n",
    "plt.legend()\n",
    "plt.show()"
   ]
  },
  {
   "cell_type": "code",
   "execution_count": null,
   "id": "59a488a3",
   "metadata": {},
   "outputs": [],
   "source": [
    "#Movie Recommendations"
   ]
  },
  {
   "cell_type": "code",
   "execution_count": 286,
   "id": "2c3b0512",
   "metadata": {},
   "outputs": [],
   "source": [
    "import difflib #to find close match of the movie given by the user with our database, incase the user makes a mistake in spelling/etc\n",
    "from sklearn.feature_extraction.text import TfidfVectorizer #convert text data to numeric data(feature vectors)\n",
    "from sklearn.metrics.pairwise import cosine_similarity #gives similarity score of one movie compared to other movies. \n",
    "#the movies with the closest similarity scores get recommended\n",
    "import numpy as np\n",
    "import pandas as pd"
   ]
  },
  {
   "cell_type": "code",
   "execution_count": 287,
   "id": "caabe44f",
   "metadata": {},
   "outputs": [
    {
     "name": "stdout",
     "output_type": "stream",
     "text": [
      "['genre', 'writers', 'actors', 'sequel', 'directors']\n"
     ]
    }
   ],
   "source": [
    "# selecting the features that will be considered for recommendation\n",
    "\n",
    "selected_features = ['genre','writers','actors','sequel','directors']\n",
    "print(selected_features)\n"
   ]
  },
  {
   "cell_type": "code",
   "execution_count": 288,
   "id": "719e009e",
   "metadata": {},
   "outputs": [],
   "source": [
    "# replacing the null valuess with null string\n",
    "\n",
    "for feature in selected_features:\n",
    "  df[feature] = df[feature].fillna('')"
   ]
  },
  {
   "cell_type": "code",
   "execution_count": 289,
   "id": "a9df7578",
   "metadata": {},
   "outputs": [
    {
     "data": {
      "text/plain": [
       "0       RomanceHoney Irani (screenplay) | Honey Irani ...\n",
       "1       Adventure | Drama | MusicalAshutosh Gowariker ...\n",
       "2       Action | ComedyDilip ShuklaAkshay Kumar | Srid...\n",
       "3       Drama | RomanceK.S. Adiyaman | Arun Kumar (ass...\n",
       "4       Action | Comedy | DramaSanjay Chhel | Raaj Kum...\n",
       "                              ...                        \n",
       "1279    DramaAarti S. Bagdi | Amrit Raj Gupta | Krisha...\n",
       "1280    HorrorDilip ShuklaManish Choudhary | Suzanna M...\n",
       "1281    DramaChandra Prakash Dwivedi (screen play and ...\n",
       "1282    ComedyDilip ShuklaVir Das | Sandeepa Dhar | Ra...\n",
       "1283    ThrillerVivek Agnihotri | Rohit MalhotraShradh...\n",
       "Length: 1284, dtype: object"
      ]
     },
     "execution_count": 289,
     "metadata": {},
     "output_type": "execute_result"
    }
   ],
   "source": [
    "#all values in the selected features will get combined\n",
    "combined_features = (df['genre'].fillna('') +df['writers'].astype(str) +df['actors'].astype(str) +df['sequel'].astype(str) +\n",
    "                    df['directors'].astype(str))\n",
    "combined_features"
   ]
  },
  {
   "cell_type": "code",
   "execution_count": 290,
   "id": "bfe6b2e6",
   "metadata": {},
   "outputs": [],
   "source": [
    "# converting the text data to feature vectors(numeric data)\n",
    "#this is done so that it cosine similarity score can be predicted easily\n",
    "\n",
    "vectorizer = TfidfVectorizer()"
   ]
  },
  {
   "cell_type": "code",
   "execution_count": 291,
   "id": "b897a18c",
   "metadata": {},
   "outputs": [
    {
     "name": "stdout",
     "output_type": "stream",
     "text": [
      "  (0, 4365)\t0.31252676727869527\n",
      "  (0, 103)\t0.22817577115943705\n",
      "  (0, 4575)\t0.2955525578940064\n",
      "  (0, 3361)\t0.26008166038443686\n",
      "  (0, 4606)\t0.2067907964144459\n",
      "  (0, 2400)\t0.2067907964144459\n",
      "  (0, 907)\t0.15605464318507986\n",
      "  (0, 3786)\t0.2067907964144459\n",
      "  (0, 624)\t0.2205431432995388\n",
      "  (0, 2161)\t0.2254739594640271\n",
      "  (0, 1652)\t0.07973688612998002\n",
      "  (0, 4735)\t0.20356893391485\n",
      "  (0, 2461)\t0.20057740790486767\n",
      "  (0, 4864)\t0.07973688612998002\n",
      "  (0, 2317)\t0.2544915620689165\n",
      "  (0, 4419)\t0.07941609106310384\n",
      "  (0, 2375)\t0.4242847106605778\n",
      "  (0, 4062)\t0.31252676727869527\n",
      "  (1, 72)\t0.2030834290055093\n",
      "  (1, 1168)\t0.23812639316339515\n",
      "  (1, 3603)\t0.21601674442284682\n",
      "  (1, 4545)\t0.23812639316339515\n",
      "  (1, 3750)\t0.22519307774605762\n",
      "  (1, 4753)\t0.10673948481473118\n",
      "  (1, 2166)\t0.18678937858462497\n",
      "  :\t:\n",
      "  (1282, 4723)\t0.363351823461872\n",
      "  (1282, 2223)\t0.3296151969617288\n",
      "  (1282, 4334)\t0.3436171620584526\n",
      "  (1282, 1622)\t0.30237776550321915\n",
      "  (1282, 2606)\t0.31875442906461116\n",
      "  (1282, 185)\t0.29587857046158555\n",
      "  (1282, 4271)\t0.31875442906461116\n",
      "  (1282, 1661)\t0.2686411390030759\n",
      "  (1282, 1541)\t0.2489064775996565\n",
      "  (1282, 3785)\t0.2254546162533951\n",
      "  (1282, 1396)\t0.27224809730479393\n",
      "  (1283, 3031)\t0.34430716582367465\n",
      "  (1283, 2986)\t0.34430716582367465\n",
      "  (1283, 5165)\t0.34430716582367465\n",
      "  (1283, 2622)\t0.3256068734415884\n",
      "  (1283, 3998)\t0.240476246641096\n",
      "  (1283, 339)\t0.24840208288742446\n",
      "  (1283, 2984)\t0.22601017313403607\n",
      "  (1283, 4502)\t0.22426956671991574\n",
      "  (1283, 1541)\t0.23586033789778013\n",
      "  (1283, 4765)\t0.21789799079238537\n",
      "  (1283, 765)\t0.28652899125861647\n",
      "  (1283, 602)\t0.2316646652814534\n",
      "  (1283, 3161)\t0.24560603920610652\n",
      "  (1283, 2609)\t0.13501368044020776\n"
     ]
    }
   ],
   "source": [
    "feature_vectors = vectorizer.fit_transform(combined_features)\n",
    "print(feature_vectors)"
   ]
  },
  {
   "cell_type": "code",
   "execution_count": 292,
   "id": "b6e933f9",
   "metadata": {},
   "outputs": [
    {
     "name": "stdout",
     "output_type": "stream",
     "text": [
      "[[1.         0.02410523 0.         ... 0.01176152 0.         0.        ]\n",
      " [0.02410523 1.         0.01683499 ... 0.03714651 0.         0.        ]\n",
      " [0.         0.01683499 1.         ... 0.         0.07524924 0.        ]\n",
      " ...\n",
      " [0.01176152 0.03714651 0.         ... 1.         0.         0.        ]\n",
      " [0.         0.         0.07524924 ... 0.         1.         0.05870717]\n",
      " [0.         0.         0.         ... 0.         0.05870717 1.        ]]\n"
     ]
    }
   ],
   "source": [
    "# find similarity scores using cosine similarity\n",
    "similarity = cosine_similarity(feature_vectors)\n",
    "print(similarity)"
   ]
  },
  {
   "cell_type": "code",
   "execution_count": 328,
   "id": "29bccc51",
   "metadata": {},
   "outputs": [
    {
     "name": "stdout",
     "output_type": "stream",
     "text": [
      " Enter your favourite movie name : Chennai Express\n"
     ]
    }
   ],
   "source": [
    "# getting the movie name from the user\n",
    "#one the user inputs the name, we try to find if that movie is present in our dataset\n",
    "#if yes, we find similar movies using the similarity score\n",
    "movie_name = input(' Enter your favourite movie name : ')"
   ]
  },
  {
   "cell_type": "code",
   "execution_count": 320,
   "id": "e3708af9",
   "metadata": {},
   "outputs": [
    {
     "name": "stdout",
     "output_type": "stream",
     "text": [
      "['Albela', 'Lagaan: Once Upon a Time in India', 'Meri Biwi Ka Jawab Nahin', 'Hum Tumhare Hain Sanam', 'One 2 Ka 4', 'Devdas', 'Aap Mujhe Achche Lagne Lage', 'Kabhi Khushi Kabhie Gham...', 'Na Tum Jaano Na Hum', 'Yaadein...', 'Zubeidaa', 'Chori Chori Chupke Chupke', 'Main Prem Ki Diwani Hoon', 'Officer', 'Chandni Bar', 'Kuch Khatti Kuch Meethi', 'Censor', 'Farz', 'Mujhe Meri Biwi Se Bachaao', 'Mujhse Dosti Karoge!', 'Daman: A Victim of Marital Violence', 'Aashiq', 'Dil Ne Phir Yaad Kiya', 'Pyaar Diwana Hota Hai', 'Grahan', 'Rahul', 'Ajnabee', 'Jodi No.1', 'Chhupa Rustam: A Musical Thriller', 'The Guru', 'Pyaar Tune Kya Kiya...', 'Bas Itna Sa Khwaab Hai...', 'Gadar: Ek Prem Katha', 'Mujhe Kucch Kehna Hai', 'Paagalpan', 'Love Ke Liye Kuch Bhi Karega', 'Uljhan', 'Aks', 'Tum Bin...: Love Will Find a Way', 'Nayak: The Real Hero', 'Dil Chahta Hai', 'Hum Ho Gaye Aap Ke', 'Yeh Raaste Hain Pyaar Ke', 'Lajja', 'Kaante', 'Shirdi Sai Baba', 'Bollywood Bound', 'Company', 'Ittefaq', 'Yeh Teraa Ghar Yeh Meraa Ghar', 'Yeh Zindagi Ka Safar', 'Rehnaa Hai Terre Dil Mein', 'Indian', 'Deewaanapan', 'Moksha: Salvation', 'Tera Mera Saath Rahen', 'Ehsaas: The Feeling', 'Veer Savarkar', 'Aamdani Atthanni Kharcha Rupaiya', 'Pitaah', 'Aankhen', 'Koi Mere Dil Se Poochhe', 'Style', 'Maa Tujhhe Salaam', 'Yeh Dil Aashiqanaa', 'Filhaal...', 'Haan Maine Bhi Pyaar Kiya', 'Yeh Mohabbat Hai', 'Tumko Na Bhool Paayenge', 'Kranti', 'Escape from Taliban', 'Kya Yehi Pyaar Hai', 'Kitne Door... Kitne Paas', 'Vadh', '16-Dec', 'Dum', 'Durga', 'Humko Tumse Pyaar Hai', 'Road', 'Angaar: The Fire', 'Ansh: The Deadly Part', 'Lal Salaam', 'Yeh Kaisi Mohabbat', 'Kasam', 'Awara Paagal Deewana', 'The Legend of Bhagat Singh', 'Ab Ke Baras', 'Mere Yaar Ki Shaadi Hai', 'Lakshya', '23rd March 1931: Shaheed', 'Badhaai Ho Badhaai', 'Humraaz', 'Maine Dil Tujhko Diya', 'Chori Chori', 'Jaani Dushman: Ek Anokhi Kahani', 'Kuch Tum Kaho Kuch Hum Kahein', 'Kyaa Dil Ne Kahaa', 'Om Jai Jagadish', 'Taj Mahal: An Eternal Love Story', 'Yeh Hai Jalwa', 'Dil Maange More!!!', 'Dil Hai Tumhaara', 'Soch', 'Boom', 'Dil Ka Rishta', 'Pran Jaaye Par Shaan Na Jaaye', 'Saathiya', 'Chor Machaaye Shor', 'Gunaah', 'Akhiyon Se Goli Maare', 'Chhal', 'Ek Chhotisi Love Story', 'Shakthi: The Power', 'Armaan', 'Sur: The Melody of Life', 'Dil Vil Pyar Vyar', 'Pyaasa', 'Baghban', 'Hathyar: Face to Face with Reality', 'Jeena Sirf Merre Liye', 'Deewangee', 'Ek Hindustani', 'Talaash: The Hunt Begins...', 'Yeh Kya Ho Raha Hai?', 'Annarth', 'Ek Se Badhkar Ek', 'Waah! Tera Kya Kehna', 'Jaal: The Trap', 'Zindagi Khoobsoorat Hai', 'Bhoot', 'Maseeha', 'Rishtey', 'Satta', 'Karz: The Burden of Truth', 'Chura Liyaa Hai Tumne', 'Danger', 'Love at Times Square', 'The Rising: Ballad of Mangal Pandey', 'Andaaz', 'Avgat', 'Chalte Chalte', 'The Hero: Love Story of a Spy', 'Jhankaar Beats', 'Kal Ho Naa Ho', 'Khakee', 'LOC: Kargil', 'Main Hoon Na', 'Pinjar', 'Tehzeeb', 'Tere Liye', 'Tujhe Meri Kasam', 'Aapko Pehle Bhi Kahin Dekha Hai', 'Khushi', 'Kucch To Hai', 'Chalo Ishq Ladaaye', 'Jism', '88 Antop Hill', 'Baaz: A Bird in Danger', 'Darna Mana Hai', 'Inteqam: The Perfect Game', 'Khwahish', 'Kyun! Ho Gaya Na...', 'Ek Hasina Thi', 'Kash... Aap Hamare Hote', 'Sssshhh...', 'Dhund: The Fog', 'Ek Aur Ek Gyarah: By Hook or by Crook', 'Oops!', 'Paanch', 'Stumped', 'Om', 'Supari', 'Haasil', 'Ishq Vishk', 'Nayee Padosan', 'Aan: Men at Work', 'Bewafaa', \"Joggers' Park\", 'Mumbai Se Aaya Mera Dost', 'Dev', 'Plan', 'Qayamat: City Under Threat', 'Calcutta Mail', 'Janasheen', 'Kaise Kahoon Ke... Pyaar Hai', 'Meenaxi: Tale of 3 Cities', 'Parwana', 'Rudraksh', 'Swades', 'Asambhav', 'Desh', 'Jajantaram Mamantaram', 'Hawa', 'Kuch Naa Kaho', 'Hungama', 'Khel', 'Saaya', 'Gangaajal', 'Khanjar', 'Khullam Khulla Pyaar Karen', 'Tere Naam', 'Footpath', 'Main Madhuri Dixit Banna Chahti Hoon!', 'Munnabhai M.B.B.S.', 'Black', 'Encounter: The Killing', 'Basti', 'Raghu Romeo', 'Aetbaar', 'Hawayein', 'Hum Tum', 'Kagaar: Life on the Edge', 'I Proud to Be an Indian', 'Ek Din 24 Ghante', 'Chupke Se', 'Market', 'Master', 'Mumbai Matinee', 'Yuva', 'Zameen', 'Xcuse Me', 'Samay: When Time Strikes', 'Yeh Lamhe Judaai Ke', 'Border Hindustan Ka', 'Inteha', 'Raja Bhaiya', 'Woh Tera Naam Tha', 'Dhoop', 'Jodi Kya Banayi Wah Wah Ramji', 'Patth', 'Waisa Bhi Hota Hai Part II', \"Deewaar: Let's Bring Our Heroes Home\", 'Out of Control', 'Aanch', 'Taj Mahal: A Monument of Love', 'Waqt: The Race Against Time', 'Dil Pardesi Ho Gayaa', 'Duplicate Sholay', 'Fun2shh... Dudes in the 10th Century', 'Ghaav: The Wound', 'Kismat', 'Pratha', 'Ishq Hai Tumse', 'Mudda: The Issue', 'Hadh: Life on the Edge of Death', 'Hum Pyar Tumhi Se Kar Baithe', 'Kisna: The Warrior Poet', 'Paisa Vasool', 'Ab Tumhare Hawale Watan Saathiyo', 'Jaago', 'Ab Tak Chhappan', 'Suno Sasurjee', 'Tum: A Dangerous Obsession', 'Action Jackson', 'Hum Kaun Hai?', 'Insaaf: The Justice', 'Raincoat', 'Murder', 'Rang De Basanti', 'Masti', 'Hawas', 'Krishna Cottage', 'Muskaan', 'Shabd', 'Bardaasht', 'Shart: The Challenge', 'Run', 'Gayab', 'Shaadi Ka Laddoo', 'Amu', 'Girlfriend', 'Garv: Pride and Honour', 'WOH', 'Dus', 'Kaal', 'Police Force: An Inside Story', 'Vaastu Shastra', 'Elaan', 'Rakht', 'Mujhse Shaadi Karogi', 'Aitraaz', 'Chot [Aaj Isko, Kal Tereko]', 'Mere Jeevan Saathi', 'Phir Hera Pheri', 'Baabul', 'Hyderabad Blues 2', 'Morning Raga', 'Revati', 'Viruddh... Family Comes First', 'Veer-Zaara', 'Julie', 'Dhoom', 'Fida', 'Phir Milenge', 'Rok Sako To Rok Lo', 'Lakeer - Forbidden Lines', 'Aakhri Inteqam', 'Tauba Tauba', 'Dobara', 'Madhoshi', 'Musafir', 'Popcorn Khao! Mast Ho Jao', 'Shaadi Karke Phas Gaya Yaar', 'Tumsa Nahin Dekha', 'Sarkar', 'AK 47', 'Hatya: The Murder', 'Krrish', 'Naach', 'Padmashree Laloo Prasad Yadav', 'Shukriya: Till Death Do Us Apart', 'Taarzan: The Wonder Car', 'Jo Bole So Nihaal', 'Family: Ties of Blood', 'Hulchul', 'Khamoshh... Khauff Ki Raat', 'Parineeta', \"Let's Enjoy\", 'Insan', 'Kisse Pyaar Karo?n', 'Silsiilay', 'Fanaa', 'Pyaar Mein Twist', 'Wajahh: A Reason to Kill', 'Dhoom:2', 'Mulaqaat', 'Dil Jo Bhi Kahey...', 'Kis Kis Ki Kismat', 'Vaada', 'Rog', 'Milenge Milenge', 'Naina', 'Page 3', 'A Sublime Love Story: Barsaat', 'Blackmail', 'Deewane Huye Paagal', 'Fareb', 'Humko Deewana Kar Gaye', 'Karam', 'Main Aisa Hi Hoon', 'Tango Charlie', 'Tathastu', 'Jurm', 'Sheesha', 'Kiss Kis Ko', 'Chaahat Ek Nasha...', 'Sins', 'Bunty Aur Babli', 'Banaras', 'Dosti: Friends Forever', 'Lucky: No Time for Love', 'Shaadi No. 1', 'Chehraa', 'Hum Dum', 'Jodhaa Akbar', 'Kabhi Alvida Naa Kehna', 'Apaharan', 'Bachke Rehna Re Baba', 'Kyon Ki...', 'Maine Pyaar Kyun Kiya', \"My Wife's Murder\", 'No Entry', 'Paheli', 'Socha Na Tha', 'Zeher', '7 1/2 Phere: More Than a Wedding', 'Garam Masala', 'Iqbal', 'Kuchh Meetha Ho Jaye', 'Aryan: Unbreakable', 'Chingaari', 'Lage Raho Munna Bhai', 'Salaam Namaste', 'Fight Club: Members Only', \"Jaan-E-Mann: Let's Fall in Love... Again\", 'Kyaa Kool Hai Hum', 'Mr Ya Miss', 'Nazar', 'Ek Ajnabee', 'Home Delivery: Aapko... Ghar Tak', 'Mixed Doubles', 'Mumbai Godfather', 'Shabnam Mausi', 'Gandhi, My Father', 'Kahaani Gudiya Ki...: True Story of a Woman', 'Naam Gum Jaayega', 'Eklavya: The Royal Guard', 'Ek Khiladi Ek Haseena', 'Kal: Yesterday and Tomorrow', 'Pyare Mohan', 'Don', '02-Oct', 'Chup Chup Ke', 'Bhairav', 'Chand Sa Roshan Chehra', 'Ssukh', \"Khosla's Nest\", 'The Film', 'Siskiyaan', 'Kasak', 'Saawan... The Love Season', 'Yun Hota Toh Kya Hota: What If...?', \"Neal 'N' Nikki\", 'Darwaza Bandh Rakho', \"Ram Gopal Varma's Indian Flames\", 'Jaane Tu... Ya Jaane Na', '...Yahaan', 'Shikhar', 'Vaah! Life Ho Toh Aisi!', 'Bluffmaster!', 'God Tussi Great Ho', 'Aksar', 'Big Brother', 'Malamaal Weekly', 'Nehlle Pe Dehlla', 'Ramji Londonwaley', 'Taxi No. 9 2 11: Nau Do Gyarah', 'Tom, Dick, and Harry', '36 China Town', 'Aashiq Banaya Aapne: Love Takes Over', 'Bengal Tiger', 'Sehar', 'Koi Mere Dil Mein Hai', 'Gumnam Qatil', 'Pyaar Ke Side Effects', 'Ek Aur Visphot', 'Kyon?', 'Bullet: Ek Dhamaka', 'Marshal', 'Miss India: The Mystery', 'Salaam-E-Ishq', 'Jawani Diwani: A Youthful Joyride', 'Main, Meri Patni... Aur Woh!', 'Umrao Jaan', 'Time Pass', 'London Dreams', 'Chand Bujh Gaya', 'Chetna: The Excitement', 'Darwaza', 'Mazaa Mazaa', 'Corporate', 'Omkara', 'Welcome', 'Hanuman', 'Koi Aap Sa: But Lovers Have to Be Friends', 'Zinda', 'C U at 9', 'Double Cross: Ek Dhoka', 'Good Boy, Bad Boy', 'Shaadi Se Pehle', 'Love Story 2050', 'Sarkar Raj', 'Gangobai', 'Kaaboo', 'Meri Aashiqui', 'Raghu More: Bachelor of Hearts', 'Prarambh', 'Fool N Final', 'Apna Sapna Money Money', 'Vivah', 'Ankahee', 'Gangster', 'Golmaal: Fun Unlimited', 'Dansh', 'Bhola in Bollywood', 'Kalyug', 'Guru', 'Saawariya', 'Kabul Express', 'Teesri Aankh: The Hidden Camera', 'Namastey London', 'Life in a Metro', 'Anthony Kaun Hai?', 'Bhagam Bhag', 'Heyy Babyy', 'Partner', 'Honeymoon Travels Pvt. Ltd.', 'Aap Ki Khatir', 'Shootout at Lokhandwala', 'Mr Prime Minister', 'Naksha', 'Apne', 'Dil Diya Hai', 'Ishq Qayamat', 'Rocky', 'Speed', 'Traffic Signal', 'Zindaggi Rocks', 'Dus Kahaniyaan', 'Dor', 'Nishabd', 'Raja Bhai Lagey Raho...', 'Humein Tumse Pyar Ho Gaya Chupke Chupke', 'Shiva', 'Ahista Ahista', 'Stop!', 'Jhoom Barabar Jhoom', 'The Killer', 'Mashooka', 'Souten: The Other Woman', 'Ta Ra Rum Pum', 'Woh Lamhe', 'Bhopal: A Prayer for Rain', 'Dhamaal', 'My Name Is Anthony Gonsalves', 'Nanhe Jaisalmer: A Dream Come True', 'Nigehbaan: The Third Eye', 'Risk', 'Loot', 'Pyaar Zindagi Hai', 'I See You', 'MP3: Mera Pehla Pehla Pyaar', 'Cash', 'Anjaane: The Unkown', 'Aggar: Passion Betrayal Terror', 'The Golden Boys', 'Anamika: The Untold Story', 'Kaafila', 'Luck by Chance', 'Kya Love Story Hai', 'Halla Bol', 'Detective Naani', 'Red: The Dark Side', 'Raqeeb', 'Manorama Six Feet Under', '99.9 FM', 'Arjun Devaa', 'Fashion', 'Cheeni Kum', 'Hattrick', 'Gauri: The Unborn', 'Laaga Chunari Mein Daag: Journey of a Woman', 'Aaja Nachle', 'Taare Zameen Par', 'A Flat', 'Delhii Heights', '30 Days', 'Bhoothnath', 'Bhool Bhulaiyaa', 'Dhol', 'Ek Chalis Ki Last Local', 'No Smoking', 'Tashan', 'Khoya Khoya Chand', 'The Train: Some Lines Shoulder Never Be Crossed...', 'Aap Kaa Surroor: The Moviee - The Real Luv Story', 'Bheja Fry', 'Yehi Hai Zindagi', 'Chain Kulii Ki Main Kulii', 'Race', 'Awarapan', 'Naqaab', 'De Taali', 'Meerabai Not Out', 'Om Shanti Om', 'Krrish 3', 'Kidnap', 'Sunday', 'U Me Aur Hum', 'Delhi-6', 'Woodstock Villa', 'Red Swastik', 'Roadside Romeo', 'Chanchal', 'Drona', 'My Friend Ganesha', 'Johnny Gaddaar', 'Hastey Hastey Follow Your Heart', 'Buddha Mar Gaya', 'Journey Bombay to Goa: Laughter Unlimited', 'Wanted', 'Hello', 'Dhokha', 'Chandni Chowk to China', 'Golmaal Returns', 'Jab We Met', 'Sab Kuch Hai Kuch Bhi Nahin', 'Victoria No. 203: Diamonds Are Forever', 'Dil Dosti Etc', 'Shaurya: It Takes Courage to Make Right... Right', '8 x 10 Tasveer', 'Kismat Konnection', 'Yuvvraaj', 'Heroes', 'Bobby: Love and Lust', 'Aseema: Beyond Boundaries', 'Dhan Dhana Dhan Goal', 'Pankh', 'Money Hai Toh Honey Hai', 'Mumbai Salsa', 'Hijack', 'Maan Gaye Mughall-E-Azam', 'Ugly Aur Pagli', 'Aabra Ka Daabra', 'Rama Rama Kya Hai Dramaaa', 'Yeh Hai Pyar Ka Mausam', 'Kambakkht Ishq', 'Singh Is Kinng', 'Karzzzz', 'Bombay to Bangkok', 'Ghajini', 'Return of Hanuman', 'C Kkompany', 'Mere Baap Pehle Aap', 'Victory', 'Delhi Safari', 'Main Aurr Mrs Khanna', 'Zahreela', 'Jai Ganesh Deva', 'Quick Gun Murugun: Misadventures of an Indian Cowboy', 'One Two Three', 'Paying Guests', 'Superstar', 'Mission Istaanbul: Darr Ke Aagey Jeet Hai!', 'Mithya', 'Dulha Mil Gaya', 'Krazzy 4', 'Rab Ne Bana Di Jodi', 'Bachna Ae Haseeno', 'Teen Patti', 'Sadiyaan: Boundaries Divide... Love Unites', 'The Stoneman Murders', 'Veer', 'Dostana', 'Kurbaan', '3 Idiots', 'Jai Ho', 'My Name Is Khan', 'Toonpur Ka Superrhero', 'Hello Darling', 'Thoda Pyaar Thoda Magic', 'Jaane Kahan Se Aayi Hai', 'Get Educated: Paathshaala', 'Ek Vivaah... Aisa Bhi', 'Kites', 'Bad Luck Govind', 'Tulsi: Mathrudevobhava', 'Acid Factory', 'Ab... Bas!', 'Barah Aana', 'Dil Bole Hadippa!', 'Bhram: An Illusion', '26th July at Barista', 'Jannat: In Search of Heaven...', 'Yaar Meri Zindagi', 'The President Is Coming', 'Dil Kabaddi', 'Via Darjeeling', 'EMI: Liya Hai To Chukana Padega', 'Welcome to Sajjanpur', 'Mumbai Cutting', 'Blue', 'Sirf....: Life Looks Greener on the Other Side', 'Aashayein', 'Aladin', 'Jimmy', 'Mr. White Mr. Black', 'Pranali: The Tradition', 'Rock On!!', 'Billu', 'Mehbooba', 'Phir Kabhi', 'Alibaba Aur 40 Chor', 'Dhoom Dadakka', 'Aamir', 'Saas Bahu Aur Sensex', \"What's Your Raashee?\", 'Luck', 'Contract', 'Hisss', 'Jail', 'Haal-e-Dil', 'Khushboo: The Fragraance of Love', 'Aasma: The Sky Is the Limit', 'Ajab Prem Ki Ghazab Kahani', 'Sankat City', 'Hari Puttar: A Comedy of Terrors', 'De Dana Dan', 'Boond', 'Summer 2007', 'Gulaal', \"Mirchi: It's Hot\", 'Chamku', 'Mumbai Meri Jaan', 'Thodi Life Thoda Magic', 'Phoonk', 'Kaminey: The Scoundrels', 'Love Aaj Kal', 'Sikandar', 'Ramaa: The Saviour', 'A Wednesday', 'My Friend Ganesha 2', 'Don 2', 'Lahore', 'Mukhbiir', 'Dasvidaniya', 'Mere Khwabon Mein Jo Aaye', 'Raajneeti', 'Allah Ke Banday', 'Oye Lucky! Lucky Oye!', '1920', 'Aloo Chaat', 'Lamhaa: The Untold Story of Kashmir', 'Hulla', 'Ru-Ba-Ru', 'Rafoo Chakkar: Fun on the Run', 'Wake Up Sid', 'Fox', 'Kal Kissne Dekha', 'Dev D', 'Sorry Bhai!', 'New York', 'Maharathi', 'Jumbo', 'Blue Oranges', 'Raavan', 'Jalwa: Fun in Love', 'Raaz: The Mystery Continues', 'Do Knot Disturb', 'Ishqiya', 'Pyaar Impossible!', 'Naughty @ 40', 'Chatur Singh Two Star', 'Chargesheet', 'Jai Veeru: Friends Forever', '99', 'Kisaan', 'Wafaa', 'Aa Dekhen Zara', 'Gumnaam: The Mystery', 'Karthik Calling Karthik', 'Race 2', '13B: Fear Has a New Address', 'Three: Love Lies Betrayal', 'Mirch', 'Dhoondte Reh Jaoge', 'Siddharth: The Prisoner', 'Chance Pe Dance', 'Agent Vinod', 'Once Upon a Time in Mumbai', 'Action Replayy', 'Straight', 'Daddy Cool: Join the Fun', 'Krantiveer: The Revolution', 'Agyaat: The Unknown', 'Ek Se Bure Do', 'Apartment: Rent at Your Own Risk', 'We Are Family', 'No Problem', 'Mohandas', 'Mumbai Diaries', 'All the Best: Fun Begins', 'Rocket Singh: Salesman of the Year', 'Guzaarish', 'Chal Chala Chal', 'Fast Forward', 'Tum Milo Toh Sahi', 'Don Muthu Swami', 'Peepli (Live)', 'Rann', 'Ek: The Power of One', 'Team: The Force', 'Khatta Meetha', 'Prince', \"Anubhav: An Actor's Tale\", 'Happy Husbands', 'Hum Tum Aur Ghost', 'Road to Sangam', 'Love Khichdi', 'Aagey Se Right', 'Zor Lagaa Ke... Haiya!', 'Teree Sang: A Kidult Love Story', 'Anjaana Anjaani', 'Morning Walk', 'Damadamm!', 'I Am Singh', 'Dhara', 'Baabarr', 'Aisha', 'My Friend Pinto', 'Vaada Raha... I Promise', 'Tum Mile', 'Paa', 'Patiala House', 'Aao Wish Karein', 'Knock Out', \"Let's Dance\", 'Golmaal 3', 'Ra.One', 'Zindagi Na Milegi Dobara', 'U, Bomsi n Me', 'Accident on Hill Road', 'Tees Maar Khan', 'Housefull', 'Striker', 'Atithi Tum Kab Jaoge?', 'Break Ke Baad', 'Yeh Hai Malegaon Ka Superman', 'World Cupp 2011', 'Chase', 'Shola: Fire of Love', 'Click', 'Shaapit: The Cursed', 'Badmaa$h Company', 'Jashnn: The Music Within', 'Toh Baat Pakki!', 'Zokkomon', 'Aakhari Decision', 'Lafangey Parindey', 'Lava Kusa: The Warrior Twins', 'Muskurake Dekh Zara', 'Mittal v/s Mittal', 'City of Gold - Mumbai 1982: Ek Ankahee Kahani', 'LSD: Love, Sex Aur Dhokha', 'Prem Kaa Game', 'Wedding Planners', 'Rokkk', 'Sanam Hum Aapke Hain...', 'Phoonk 2', 'Idiot Box', 'Dum Maaro Dum', 'The Japanese Wife', 'Bhavnao Ko Samjho', 'Dabangg', 'Na Ghar Ke Na Ghaat Ke', 'Hello Zindagi', 'Mausam', 'Bumm Bumm Bole', 'Ek Second... Jo Zindagi Badal De...', '7 Khoon Maaf', 'Tere Bin Laden', 'Trump Card', 'Sahi Dhandhe Galat Bande', 'Kya Yahi Sach Hai', 'Soch Lo', 'Bird Idol', 'Kajraare', 'Musaa: The Most Wanted', 'Swaha: Life Beyond Superstition', 'Khelein Hum Jee Jaan Sey', 'Udaan', 'Trapped in Tradition: Rivaaz', 'Mr. Singh/Mrs. Mehta', 'The Film Emotional Atyachar', 'Help', 'Turning 30!!!', 'F.A.L.T.U', 'Bhindi Baazaar', 'I Hate Luv Storys', 'Daayen Ya Baayen', 'Hello Hum Lallann Bol Rahe Hain', 'Kushti', 'I Am', 'Tanu Weds Manu', 'Tere Mere Phere', 'Ek Main Aur Ekk Tu', 'Tezz', 'Aakrosh', 'Ready', 'Do Dooni Chaar', 'Thank You', 'Dil Toh Baccha Hai Ji', 'Bol Bachchan', 'Bodyguard', 'No One Killed Jessica', 'Khichdi: The Movie', 'Payback', 'Chitkabrey', 'Benny and Babloo', 'Dus Tola', 'Mere Brother Ki Dulhan', 'Dunno Y Na Jaane Kyun...', 'Ramayana: The Epic', 'Life Express', \"Crook: It's Good to Be Bad\", 'Yeh Saali Zindagi', 'Bachao - Inside Bhoot Hai...', 'Game', 'Phas Gaye Re Obama', \"Shahrukh Bola 'Khoobsurat Hai Tu'... And She Believed in It\", 'Yamla Pagla Deewana', 'Love You to Death', 'Isi Life Mein...!', 'Players', 'Chittagong', 'Talaash', 'My Friend Ganesha 3', 'Yeh Faasley', 'Khap', '9 Eleven', 'Bhoot and Friends', 'Kaalo', 'Utt Pataang', 'Aashiqui.in', 'Diary of a Butterfly', 'Kahaani', 'United Six', 'Angel', 'Hostel', 'Shagird', 'Rascals', 'Dhoom: 3', 'Kaccha Limboo', 'Shaitan', 'RockStar', 'Chillar Party', 'U R My Jaan', 'Aarakshan', 'Agneepath', 'Qasam Se Qasam Se', 'Teen Thay Bhai', 'Bbuddah Hoga Terra Baap', 'Love Breakups Zindagi', '404: Error Not Found', 'Chalo Dilli', 'Satrangee Parachute', 'Haunted - 3D', 'Monica', 'Ragini MMS', 'Once Upon a Time in Mumbai Dobaara!', 'Ye Stupid Pyar', 'Masti Express', 'Vikalp', 'Mumbai Mast Kallander', 'Tum Hi To Ho...', 'Men Will Be Men', 'Bengaloored', 'The Camp', 'Shor in the City', '5ters: Castle of Dark Master', 'A Strange Love Story', 'Joker', 'Luv Ka the End', 'Murder 2', 'Khuda Kasam', 'Queens! Destiny of Dance', 'Pyaar Ka Punchnama', 'Mallika', 'Delhi Belly', 'Nakshatra', 'Always Kabhi Kabhi', 'Vroom', 'Bheja Fry 2', 'Soundtrack', 'Kucch Luv Jaisaa', 'Bin Bulaye Baraati', 'Impatient Vivek', 'Singham', 'The Waiting Room', 'Heroine', 'The Dirty Picture', 'Gangs of Wasseypur', 'Ladies vs. Ricky Bahl', 'Ata Pata Lapatta', 'Good Luck!', 'Tell Me O Kkhuda', 'Love Express', 'Suno Na.. Ek Nanhi Aawaz', 'Chala Mussaddi - Office Office', 'Gandhi to Hitler', 'Housefull 2', 'Dekh Bhai Dekh: Laughter Behind Darkness', 'Desi Boyz', 'Ishkq in Paris', 'Chal Chalein', 'Force', 'Toss: A Flip of Destiny', 'Aamras: The Sweet Taste of Friendship', 'Bachelor Party', 'Cycle Kick', 'Not a Love Story', 'Ashok Chakra: Tribute to Real Heroes', 'Bubble Gum', 'Aagaah: The Warning', 'Ek Tha Tiger', 'Phhir', 'Kyaa Super Kool Hain Hum', 'Stand By', 'Shabri', 'Hair is Falling: A Serious Comedy Film', 'Aazaan', 'Hum Tum Shabana', 'Hum Do Anjaane', 'Mod', 'Jaana Pehchana', 'Mujhse Fraaandship Karoge', 'Maruti Mera Dosst', 'Kya Dilli Kya Lahore', 'I, Me aur Main', 'London Paris New York', 'Lottery', 'Shortcut Romeo', 'Jugaad', 'Mummy Punjabi: Superman Ki Bhi Maa!!', 'Shanghai', 'Saheb Biwi Aur Gangster', 'Rowdy Rathore', 'Barfi!', \"Jo Dooba So Paar: It's Love in Bihar!\", 'Inkaar', 'Hum Hai Raahi CAR Ke', 'Miley - Naa Miley - Hum', 'Matru ki Bijlee ka Mandola', 'Shakal Pe Mat Ja', 'Chennai Express', 'Dabangg 2', 'Jo Hum Chahein', 'Ferrari Ki Sawaari', 'Ekk Deewana Tha', 'Tere Naal Love Ho Gaya', 'Lanka', '3 Nights 4 Days', 'Raaz 3: The Third Dimension', 'Koi Hai', 'Yeh Jo Mohabbat Hai', 'Zindagi Tere Naam', 'Khiladi 786', 'Cocktail', 'Student of the Year', 'Ghost', 'Jab Tak Hai Jaan', 'Yeh Jawaani Hai Deewani', 'Son of Sardaar', 'English Vinglish', 'Hansa', 'Chaalis Chauraasi', 'From Sydney with Love', 'Department', 'Luv Shuv Tey Chicken Khurana', 'Unforgettable', 'Shirin Farhad Ki Toh Nikal Padi', 'Gali Gali Chor Hai', 'Login', 'Staying Alive', 'Daal Mein kuch kaala hai', 'Station', 'Chaar Din Ki Chandni', 'Jodi Breakers', 'Maharana Pratap: The First Freedom Fighter', 'Aashiqui 2', 'Chakradhaar', 'Machhli Jal Ki Rani Hai', 'Myoho', 'Kai po che!', 'Issaq', 'Goliyon Ki Rasleela Ram-Leela', 'Main Aur Mr. Riight', 'Identity Card', '1920: Evil Returns', 'Baat Bann Gayi', '3 Bachelors', 'Listen... Amaya', 'Lootera', 'Tutiya Dil', 'Jism 2', 'Table No. 21', 'Mere Dost Picture Abhi Baaki Hai', 'Siyaah..', 'Shudra the Rising', 'Cheenti Cheenti Bang Bang', 'Aalaap', '2 Nights in Soul Valley', 'Blood Money', 'Ghanchakkar', 'Challo Driver', 'Future to Bright Hai Ji', 'Aiyyaa', 'Rush', 'Bumboo', 'Gori Tere Pyaar Mein', 'Satyagraha', 'Kamaal Dhamaal Malamaal', 'Riyasat', 'Chakravyuh', 'Jeena Hai Toh Thok Daal', 'Shootout at Wadala', 'Second Marriage Dot Com', 'Born to Hate... Destined to Love', 'Milta Hai Chance by Chance', 'Singham Returns', 'Hate Story', 'Sons of Ram', 'Tamanchey', 'Vicky Donor', 'Bandook', 'Jannat 2', 'ABCD (Any Body Can Dance)', 'Krishna Aur Kans', 'Mere Dad Ki Maruti', 'Life Ki Toh Lag Gayi', 'Love Recipe', 'Chor chor super chor', 'PK', 'Maximum', 'Nautanki Saala!', 'Chhodo Kal Ki Baatein', 'Himmatwala', 'Cigarette Ki Tarah', 'Bittoo Boss', 'The Lunchbox', 'Janleva 555', \"Mumbai's King\", 'Teri Meri Kahaani', 'Bhaag Milkha Bhaag', 'Ajab Gazabb Love', 'Zanjeer', 'Ramaiya Vastavaiya', 'David', 'Raanjhanaa', 'Club 60', 'Saheb Biwi Aur Gangster Returns', 'Chal Pichchur Banate Hain', 'R... Rajkumar', 'Kick', '2 States', 'Special 26', '?: A Question Mark', 'Jalpari: The Desert Mermaid', 'Mai', 'Aatma', 'Prague', 'Kismet Love Paisa Dilli', 'Saari Raat', 'Arjun: The Warrior Prince', 'Bloody Isshq', '3G - A Killer Connection', 'Overtime', 'Bhoot Returns', 'Ek Thi Daayan', 'Rabba Main Kya Karoon', 'Akaash Vani', 'Murder 3', 'Khwaabb', 'Go Goa Gone', 'Singh Saab the Great', 'Rajjo', 'Happy New Year', 'Grand Masti', 'Yamla Pagla Deewana 2', 'Maazii', 'Holiday', 'Rajdhani Express', 'Boss', 'Gulaab Gang', 'Gunday', 'Besharam', 'Mere Haule Dost', 'Ragini MMS 2', 'Sona Spa', 'Lucky Kabootar', 'Pehli Nazar Ka Pyaar', 'Dehraadun Diary', 'Phata Poster Nikhla Hero', 'Jolly LLB', 'Jayantabhai Ki Luv Story', 'Gangoobai', 'Super Nani', 'Rise of the Zombie', 'The Attacks of 26/11', 'Dedh Ishqiya', 'Sulemani Keeda', 'Mumbai 125 KM 3D', 'John Day', 'Rangrezz', 'Total Chaos', 'Main Tera Hero', 'Badlapur Boys', 'Mickey Virus', 'Bombay Talkies', 'Chhota Bheem and the Curse of Damyaan', 'Aurangzeb', 'Fukrey', 'Gippi', 'Shree', 'Bajatey Raho', 'Madras Cafe', 'Saare Jahaan Se Mehnga...', 'Policegiri', 'Sonali Cable', 'Mr Joe B. Carvalho', 'Bang Bang', 'Paranthe Wali Gali', 'Ankur Arora Murder Case', 'Zindagi 50 50', 'Enemmy', \"It's Rocking: Dard-E-Disco\", 'One by Two', 'Sixteen', 'Lakshmi', 'Entertainment', 'Highway', 'Shuddh Desi Romance', 'Kuku Mathur Ki Jhand Ho Gayi', 'Mary Kom', 'Sooper Se Ooper', 'Happy Ending', 'Chaarfutiya Chhokare', 'Lakeer ka Fakeer', 'Humshakals', 'Kaanchi', 'Nasha', 'Tara: The Journey of Love and Passion', 'Manjunath', 'Satya 2', 'Warning', 'Heropanti', 'Finding Fanny', 'Ooops a Desi', 'Meinu Ek Ladki Chaahiye', 'Raqt', 'Hasee Toh Phasee', 'Horror Story', 'Le Gaya Saddam', 'Say Yes to Love', 'Shorts', 'Bin Phere Free Me Tere', 'Revolver Rani', 'Shaadi Ke Side Effects', 'Ya Rab', 'Jackpot', 'Titoo MBA', 'Queen', 'Chhota Bheem and the Throne of Bali', 'Heartless', 'What the Fish', 'Bobby Jasoos', 'Ungli', 'Children of War', 'Kill Dil', 'Yaariyan', 'Haider', 'Daawat-e-Ishq', 'Mahabharat', 'Babloo Happy Hai', 'Darr @ the Mall', 'Karle Pyaar Karle', 'O Teri', 'Bewakoofiyaan', 'Raja Natwarlal', 'Mardaani', 'Mokssh', 'Ebn-e-Batuta', 'Hawaa Hawaai', 'Youngistaan', 'Yeh Hai Bakrapur', 'The Dirty Relation', 'Gang of Ghosts', 'Bhoothnath Returns', 'Dishkiyaoon', 'Chal Bhaag', 'Khoobsurat', 'Karar: The Deal', 'Kahin Hai Mera Pyar', 'Neighbours', 'Angry Young Man', 'Hate Story 2', 'Creature', 'Samrat & Co.', 'Koyelaanchal', 'The Xpose', 'Dekh Tamasha Dekh', 'Humpty Sharma Ki Dulhania', 'Purani Jeans', 'Fugly', 'CityLights', 'Lekar Hum Deewana Dil', '3 AM: A Paranormal Experience', 'Bollywood Villa', 'Pizza', 'M.A.D: Mad About Dance', 'Amit Sahni Ki List', 'Ekkees Toppon Ki Salaami', 'The Shaukeens', 'Desi Kattey', 'Life Is Beautiful', 'Spark', 'Jigariyaa', 'Mumbai Delhi Mumbai', 'Love U Crazy Girl', 'Shuruaat Ka Interval', 'Trip to Bhangarh', 'Zed Plus', 'Gollu aur Pappu', 'Zid']\n"
     ]
    }
   ],
   "source": [
    "# creating a list with all the movie names given in the dataset\n",
    "\n",
    "list_of_all_titles = df['title'].tolist()\n",
    "print(list_of_all_titles)"
   ]
  },
  {
   "cell_type": "code",
   "execution_count": 329,
   "id": "1e216f7e",
   "metadata": {},
   "outputs": [
    {
     "name": "stdout",
     "output_type": "stream",
     "text": [
      "['Chennai Express', 'Masti Express', 'Love Express']\n"
     ]
    }
   ],
   "source": [
    "find_close_match = difflib.get_close_matches(movie_name, list_of_all_titles)\n",
    "print(find_close_match)"
   ]
  },
  {
   "cell_type": "code",
   "execution_count": 330,
   "id": "67b00343",
   "metadata": {},
   "outputs": [
    {
     "name": "stdout",
     "output_type": "stream",
     "text": [
      "Chennai Express\n"
     ]
    }
   ],
   "source": [
    "close_match = find_close_match[0]\n",
    "print(close_match)"
   ]
  },
  {
   "cell_type": "code",
   "execution_count": 331,
   "id": "96dbd517",
   "metadata": {},
   "outputs": [
    {
     "name": "stdout",
     "output_type": "stream",
     "text": [
      "1004\n"
     ]
    }
   ],
   "source": [
    "#finding index of the movie and its title\n",
    "index_of_the_movie = df[df.title == close_match]['index'].values[0]\n",
    "print(index_of_the_movie)"
   ]
  },
  {
   "cell_type": "code",
   "execution_count": 332,
   "id": "715a0b47",
   "metadata": {},
   "outputs": [
    {
     "name": "stdout",
     "output_type": "stream",
     "text": [
      "[(0, 0.03097633315749161), (1, 0.05136108308148732), (2, 0.013215369775955155), (3, 0.1589305944317918), (4, 0.1232841479589712), (5, 0.08410685307130877), (6, 0.09095081364059865), (7, 0.09086224902510898), (8, 0.03648810125844294), (9, 0.09505964063418362), (10, 0.03192954044782295), (11, 0.03746250664222345), (12, 0.0), (13, 0.04590870352123445), (14, 0.03086339212073385), (15, 0.0), (16, 0.0), (17, 0.0), (18, 0.06261222835415713), (19, 0.0), (20, 0.0), (21, 0.024805370944503004), (22, 0.0), (23, 0.03412568949226493), (24, 0.0), (25, 0.04017765467981144), (26, 0.06324855858777756), (27, 0.13627033111025624), (28, 0.0), (29, 0.007740158568856797), (30, 0.026319005869498507), (31, 0.01737427321843104), (32, 0.01443746103173056), (33, 0.014483813460534949), (34, 0.005738130104902448), (35, 0.03819743266153858), (36, 0.0), (37, 0.02262480764468212), (38, 0.02273518960306461), (39, 0.020797785720156056), (40, 0.04637864725983709), (41, 0.03659147485322817), (42, 0.026509207928935186), (43, 0.02856954850941562), (44, 0.05997071608341533), (45, 0.0065079396266994535), (46, 0.0), (47, 0.013436587588673025), (48, 0.2199990865789529), (49, 0.0705606909406847), (50, 0.0), (51, 0.08179665537753913), (52, 0.025146887245040876), (53, 0.01529012986974209), (54, 0.017743639944970056), (55, 0.025550224533499106), (56, 0.0), (57, 0.0), (58, 0.032672580236240464), (59, 0.06602351378812102), (60, 0.06891437142806014), (61, 0.0), (62, 0.01418744043560863), (63, 0.0668659517557218), (64, 0.014199471369276937), (65, 0.0), (66, 0.04886403492432906), (67, 0.05496077949090486), (68, 0.028161197800114234), (69, 0.016408014058146562), (70, 0.0433172741362776), (71, 0.010122537585033389), (72, 0.2226247387359236), (73, 0.0), (74, 0.03222317159642853), (75, 0.03941680388213416), (76, 0.012068642038556617), (77, 0.02894702108673257), (78, 0.0), (79, 0.0), (80, 0.02087046948787505), (81, 0.018094077165317406), (82, 0.0), (83, 0.04650609215825993), (84, 0.09433040287785946), (85, 0.07966332553847445), (86, 0.06246063775936869), (87, 0.03131393612369072), (88, 0.03408541417581309), (89, 0.027955868360930874), (90, 0.010225801322175704), (91, 0.044509850134742304), (92, 0.03899750509581891), (93, 0.010011632514891445), (94, 0.07210410020404182), (95, 0.01322756106381666), (96, 0.0), (97, 0.02848325129351107), (98, 0.04187090777189757), (99, 0.1994469906433739), (100, 0.05854031866123855), (101, 0.08128202594708037), (102, 0.025929259337503802), (103, 0.012611993476972769), (104, 0.01702005700116598), (105, 0.030321357673553102), (106, 0.02196761696304893), (107, 0.08867617008871445), (108, 0.052334923239331636), (109, 0.06038267524600272), (110, 0.024829123150661554), (111, 0.010127276445907553), (112, 0.033971419659644196), (113, 0.03595314100958507), (114, 0.012646264081564424), (115, 0.03307554880967278), (116, 0.0), (117, 0.049943594801396), (118, 0.02962494527090817), (119, 0.057026447294691016), (120, 0.0), (121, 0.03433344127987694), (122, 0.14184907354678172), (123, 0.026664682226730574), (124, 0.04910000689343751), (125, 0.07566546290287748), (126, 0.0), (127, 0.013057118111181328), (128, 0.0), (129, 0.0), (130, 0.0884435363242283), (131, 0.07126760397760518), (132, 0.026102105263032617), (133, 0.12718259817478222), (134, 0.08636958224634445), (135, 0.0), (136, 0.013444270047471597), (137, 0.034448834937518595), (138, 0.06423118172523437), (139, 0.012588754315679485), (140, 0.223842692044883), (141, 0.01464038891673409), (142, 0.045408942798019436), (143, 0.10748030361697164), (144, 0.022771769305424166), (145, 0.02694242815008576), (146, 0.18374549014607602), (147, 0.039186725439351144), (148, 0.018198049378649876), (149, 0.011610393014132941), (150, 0.015509298409943546), (151, 0.02788920903019282), (152, 0.0692402458940001), (153, 0.028795237010329898), (154, 0.0742511348476233), (155, 0.041794567368720476), (156, 0.01158147101190609), (157, 0.0376541595136794), (158, 0.011453212929129434), (159, 0.11025401152763875), (160, 0.023127604881167732), (161, 0.031915893184391135), (162, 0.011142647719009427), (163, 0.030905022031510743), (164, 0.0), (165, 0.02409052786616115), (166, 0.1528828508013863), (167, 0.013051893586446652), (168, 0.0), (169, 0.03394293587808091), (170, 0.10579269529360842), (171, 0.07410489273182018), (172, 0.03861090377521362), (173, 0.03892466354613535), (174, 0.03903794044010264), (175, 0.06621780636108686), (176, 0.0), (177, 0.016616176789728408), (178, 0.01315537351946923), (179, 0.045373877246926334), (180, 0.08555820983563839), (181, 0.07637087475994397), (182, 0.04853909751740729), (183, 0.07957701288164118), (184, 0.01563778361369585), (185, 0.02364109856954204), (186, 0.049462592486472126), (187, 0.04389524855158884), (188, 0.10878164905591114), (189, 0.052352450373483024), (190, 0.03534489329821291), (191, 0.0), (192, 0.04477377791960222), (193, 0.06099489467354711), (194, 0.04775811407279361), (195, 0.06456684701981166), (196, 0.02778239476087362), (197, 0.014930874846556525), (198, 0.18751050419263304), (199, 0.06335681974647081), (200, 0.04632324185053453), (201, 0.10413724388998336), (202, 0.0), (203, 0.019412141625655965), (204, 0.03758130175147919), (205, 0.027851503978652967), (206, 0.01346442888044669), (207, 0.023210420812798522), (208, 0.11081516682848092), (209, 0.017999150768304252), (210, 0.028196690429477766), (211, 0.0), (212, 0.011382714413146493), (213, 0.0), (214, 0.008912718599014272), (215, 0.019326548129781525), (216, 0.01679104271427078), (217, 0.0), (218, 0.037072336533848366), (219, 0.1667843583432766), (220, 0.015011664071395512), (221, 0.0), (222, 0.06133514491228602), (223, 0.02836242945525631), (224, 0.061065616176805844), (225, 0.010705314304848166), (226, 0.0), (227, 0.029287075199326426), (228, 0.024352963967488678), (229, 0.022001859322571524), (230, 0.03906323267007482), (231, 0.04029549718963582), (232, 0.06460546331531346), (233, 0.0), (234, 0.012104620710743785), (235, 0.041237829346884816), (236, 0.025461670507788605), (237, 0.03375144659076782), (238, 0.02694177286637779), (239, 0.013333837666489151), (240, 0.07789513405698), (241, 0.012001858278547764), (242, 0.022181880374020316), (243, 0.0), (244, 0.013048712683132626), (245, 0.018325533491490718), (246, 0.050575954823809915), (247, 0.0), (248, 0.03419595565602176), (249, 0.03527435227619155), (250, 0.025232746101278354), (251, 0.06684582900345992), (252, 0.022644957694567154), (253, 0.026787020339866283), (254, 0.0), (255, 0.0), (256, 0.015090095519967586), (257, 0.01360483516282514), (258, 0.03783712933783175), (259, 0.047303408698731855), (260, 0.0), (261, 0.023795396893659577), (262, 0.09621703677379505), (263, 0.03636553894575686), (264, 0.08416486904713362), (265, 0.0), (266, 0.04838353602347019), (267, 0.01394865021230768), (268, 0.0), (269, 0.0), (270, 0.0), (271, 0.08945765925103709), (272, 0.08832824889178914), (273, 0.06016321171542287), (274, 0.1101684594913921), (275, 0.014737760765286708), (276, 0.0), (277, 0.055543667462807034), (278, 0.0745912094943736), (279, 0.0411089991512088), (280, 0.03715340939516425), (281, 0.03527328098988333), (282, 0.13797990815461172), (283, 0.04646458815700808), (284, 0.018862729279732933), (285, 0.0), (286, 0.006375829928066897), (287, 0.046198356132192), (288, 0.03712008531682644), (289, 0.10327800793518581), (290, 0.03141914795526812), (291, 0.035698191661357216), (292, 0.04640388990466821), (293, 0.0641652116373584), (294, 0.0), (295, 0.12787774772783697), (296, 0.0), (297, 0.010872071279554066), (298, 0.036147640757292675), (299, 0.013842721630792882), (300, 0.025531473999129882), (301, 0.02030593135342569), (302, 0.12983664695045863), (303, 0.0), (304, 0.012371632654997664), (305, 0.04715937863424534), (306, 0.011681391254600772), (307, 0.08534954500253228), (308, 0.011418537048855176), (309, 0.04172291746822552), (310, 0.035723296449685776), (311, 0.015247392183242222), (312, 0.012598294522713294), (313, 0.05063001553768866), (314, 0.09515677853406154), (315, 0.06832068277331292), (316, 0.043206835061389504), (317, 0.0), (318, 0.09349403784839434), (319, 0.12961078159291578), (320, 0.006537859288959685), (321, 0.028118622329505977), (322, 0.047719752478451255), (323, 0.06792947228625099), (324, 0.03891145835329319), (325, 0.0), (326, 0.0), (327, 0.0), (328, 0.01419671835765081), (329, 0.055992050104717056), (330, 0.02034928537762219), (331, 0.005309300138093741), (332, 0.04566572907942358), (333, 0.12327796620291664), (334, 0.09819405624820585), (335, 0.10309854198083994), (336, 0.07172554561461847), (337, 0.04283459121047019), (338, 0.007385933598587852), (339, 0.03164146630540075), (340, 0.036654236841890085), (341, 0.0), (342, 0.03167872957327528), (343, 0.026461284928551168), (344, 0.0), (345, 0.0), (346, 0.0), (347, 0.034970821722136204), (348, 0.01407392173929131), (349, 0.12596530484824925), (350, 0.02014103310697206), (351, 0.03130477595827391), (352, 0.0), (353, 0.022864262017979583), (354, 0.04746602606897557), (355, 0.1022918816799282), (356, 0.046973488827941674), (357, 0.10995626386866868), (358, 0.035124806150900384), (359, 0.03825915309434155), (360, 0.0), (361, 0.04194409805170668), (362, 0.07903254124998482), (363, 0.0), (364, 0.0797557278294209), (365, 0.01971652645230416), (366, 0.03823850470121397), (367, 0.028937269198258928), (368, 0.05594891193062178), (369, 0.014672200734540284), (370, 0.023210613820344325), (371, 0.03217332351995056), (372, 0.048565912232468963), (373, 0.11166312736124058), (374, 0.02944647257890554), (375, 0.023117854320497892), (376, 0.020731408533359266), (377, 0.03767475354161554), (378, 0.0419962759498244), (379, 0.07473225668755903), (380, 0.009457151956900325), (381, 0.009476696662133442), (382, 0.0), (383, 0.04056998149727252), (384, 0.0), (385, 0.0), (386, 0.03388714187540863), (387, 0.027502018001515055), (388, 0.0), (389, 0.05257182750838302), (390, 0.06827008009247658), (391, 0.0), (392, 0.03165068384542433), (393, 0.0), (394, 0.0), (395, 0.010131536067576807), (396, 0.017935423596674528), (397, 0.04393092175295789), (398, 0.0), (399, 0.047078860120609745), (400, 0.023069278027510652), (401, 0.04532713014134433), (402, 0.05254553065937617), (403, 0.03989558673199046), (404, 0.035916249293845084), (405, 0.02393984348191633), (406, 0.047224069511294015), (407, 0.032834231903798444), (408, 0.029611839295221976), (409, 0.031109999485598325), (410, 0.14804127988163954), (411, 0.006189071875759358), (412, 0.013965925213970677), (413, 0.07136092870255327), (414, 0.1262881532998777), (415, 0.07333951099361426), (416, 0.014319591475375575), (417, 0.15770851816800585), (418, 0.03377922356088806), (419, 0.0061761615948170215), (420, 0.012671511418781273), (421, 0.013314541971090218), (422, 0.013593160714800477), (423, 0.0), (424, 0.031077239019333652), (425, 0.012129662270901315), (426, 0.0), (427, 0.03976333855990283), (428, 0.0), (429, 0.0), (430, 0.04416728798156744), (431, 0.04525321657786178), (432, 0.06228244978229111), (433, 0.040187448364761055), (434, 0.0), (435, 0.08832806408194022), (436, 0.012216897458994772), (437, 0.0), (438, 0.028199762375092786), (439, 0.0), (440, 0.06260216695607718), (441, 0.1215167525571686), (442, 0.009316899501325526), (443, 0.0), (444, 0.03423916391180196), (445, 0.030290066603852688), (446, 0.0), (447, 0.015183129256716827), (448, 0.017343289903048537), (449, 0.023237652007405032), (450, 0.11883212987871361), (451, 0.01231351951426343), (452, 0.0), (453, 0.0), (454, 0.0), (455, 0.0), (456, 0.03809699960422252), (457, 0.05245357793718116), (458, 0.015642930901426797), (459, 0.017284686223561954), (460, 0.11440304671510115), (461, 0.05775800499118129), (462, 0.10306330076707859), (463, 0.0), (464, 0.0), (465, 0.03616020266460955), (466, 0.10549624066961955), (467, 0.10340044981560288), (468, 0.08419508444852736), (469, 0.02972708682493509), (470, 0.07670624432710724), (471, 0.0422211037569093), (472, 0.010181770305723096), (473, 0.012261257738001024), (474, 0.13580359540128173), (475, 0.13542981403197835), (476, 0.020725487503920725), (477, 0.0), (478, 0.03716083081789461), (479, 0.0), (480, 0.03581844117470654), (481, 0.020665689861396268), (482, 0.03143263908612961), (483, 0.006125235075564156), (484, 0.05770930296111503), (485, 0.04869816891162032), (486, 0.037995265128755215), (487, 0.02248261984268044), (488, 0.07292524451566863), (489, 0.020211154857193915), (490, 0.022336099301295455), (491, 0.01972503215467055), (492, 0.0), (493, 0.010507121803236987), (494, 0.06258469271306653), (495, 0.03780505724139545), (496, 0.032537597841532415), (497, 0.04743158574842307), (498, 0.024645835962906683), (499, 0.0), (500, 0.036813130824667355), (501, 0.030602842831071793), (502, 0.0), (503, 0.03935831178132978), (504, 0.022568620405893518), (505, 0.04804143738125806), (506, 0.030057487065968447), (507, 0.01313422692419257), (508, 0.02342101221986761), (509, 0.0), (510, 0.038164453117378386), (511, 0.0), (512, 0.06044450528102495), (513, 0.024771993629704475), (514, 0.0), (515, 0.007032426533248241), (516, 0.017836517337996058), (517, 0.005642400132310166), (518, 0.016883042206591106), (519, 0.03520718067178086), (520, 0.013404550600961282), (521, 0.012569798546354153), (522, 0.027428153487691426), (523, 0.0), (524, 0.03489468102549801), (525, 0.0), (526, 0.0195533249886873), (527, 0.02567551470366607), (528, 0.008881321112898759), (529, 0.017958762396020685), (530, 0.024847298496575396), (531, 0.0), (532, 0.020584992843705692), (533, 0.038076347013979786), (534, 0.023656979798880665), (535, 0.0), (536, 0.0), (537, 0.0670018388468279), (538, 0.04101317769214873), (539, 0.016309210441122653), (540, 0.020976841268783707), (541, 0.023221589875242782), (542, 0.03835980482798251), (543, 0.034890554908189736), (544, 0.02472426050869639), (545, 0.02147019410734878), (546, 0.031585263793841134), (547, 0.05115098622236654), (548, 0.03399807214451164), (549, 0.053232010040440376), (550, 0.040126554550699425), (551, 0.033941651340979005), (552, 0.02120177127605715), (553, 0.013605497533167418), (554, 0.17006151013951565), (555, 0.11391670260391298), (556, 0.06615052758707092), (557, 0.36927562881743475), (558, 0.07478797172293349), (559, 0.023414683877366192), (560, 0.05172876773957548), (561, 0.0), (562, 0.02385568803279916), (563, 0.0), (564, 0.028893992938323145), (565, 0.006417354521193076), (566, 0.035876726277719886), (567, 0.05630702387861663), (568, 0.018265270435528703), (569, 0.06156371975917159), (570, 0.04826383032947501), (571, 0.06351983567466221), (572, 0.037535092507424685), (573, 0.12196186952149633), (574, 0.21771294172225397), (575, 0.01143717220038602), (576, 0.0), (577, 0.02193171881543378), (578, 0.0351437171712162), (579, 0.024070380063277375), (580, 0.0), (581, 0.047856383581491094), (582, 0.12262616503840024), (583, 0.051845662600304654), (584, 0.0), (585, 0.024375440370181918), (586, 0.03337752511981114), (587, 0.005800012342508997), (588, 0.01016369433007856), (589, 0.05317710872761566), (590, 0.022960039227722308), (591, 0.02128667283314795), (592, 0.057191926207927256), (593, 0.0), (594, 0.031376466229410725), (595, 0.0), (596, 0.07658207044890743), (597, 0.05249907794439574), (598, 0.026812239101160817), (599, 0.009695339588206058), (600, 0.05492649955032702), (601, 0.012341802372327508), (602, 0.009413462915498931), (603, 0.035116604793586234), (604, 0.04639197989213797), (605, 0.05209386976238327), (606, 0.034847656179474204), (607, 0.030492788630468254), (608, 0.0), (609, 0.02996842289017292), (610, 0.03435771978744229), (611, 0.046256007442634764), (612, 0.04787544114316101), (613, 0.05302258136339432), (614, 0.026193224997092465), (615, 0.07830517423336172), (616, 0.057918023639372235), (617, 0.11898676926124101), (618, 0.09467157038819679), (619, 0.023083746185884012), (620, 0.012340642010287603), (621, 0.013904022799568752), (622, 0.06956766337474644), (623, 0.024919166747323782), (624, 0.03586478875243161), (625, 0.03258117459423657), (626, 0.09481728728606739), (627, 0.09569497638811511), (628, 0.036948849929841286), (629, 0.030621530371333486), (630, 0.04239708255671356), (631, 0.016107913737860035), (632, 0.02258873985511961), (633, 0.04616473361304076), (634, 0.12192323007742598), (635, 0.04875535020819158), (636, 0.015784021752018), (637, 0.09259410747225172), (638, 0.0), (639, 0.053499675068946685), (640, 0.011038931692829813), (641, 0.011059331935176872), (642, 0.012821222294731002), (643, 0.06787216733465512), (644, 0.026155483740921862), (645, 0.0), (646, 0.018073140650578415), (647, 0.008268199842241334), (648, 0.03972566563864219), (649, 0.026327104613594804), (650, 0.023764336380517545), (651, 0.02596127843984656), (652, 0.01917589403726889), (653, 0.010309922446608104), (654, 0.09933955064297688), (655, 0.010457525573909415), (656, 0.0804539013488953), (657, 0.019946249874216688), (658, 0.030327758507837463), (659, 0.15385056559667387), (660, 0.10653351947427439), (661, 0.013325795271081077), (662, 0.024857384193267586), (663, 0.05707708612753801), (664, 0.006944704851562535), (665, 0.01856141564226562), (666, 0.03782788849041627), (667, 0.12171672320870294), (668, 0.016661702557971163), (669, 0.03558468960822597), (670, 0.020887736213620434), (671, 0.10475132891356995), (672, 0.02165394870741266), (673, 0.08725545612013046), (674, 0.09597853734597245), (675, 0.010293752788295736), (676, 0.008865616983053614), (677, 0.040507044758735), (678, 0.027471827829453545), (679, 0.030000833214713626), (680, 0.027635727246636814), (681, 0.04319226511841564), (682, 0.030775971282348345), (683, 0.03634588382691369), (684, 0.02023132819934374), (685, 0.0), (686, 0.05589144380344271), (687, 0.15668657239865924), (688, 0.0), (689, 0.028331466222714166), (690, 0.030672129820359273), (691, 0.006018636201798208), (692, 0.08985335249048179), (693, 0.03637917088640477), (694, 0.0), (695, 0.03916842731794457), (696, 0.02054807696134849), (697, 0.037508084299663645), (698, 0.010623513815784224), (699, 0.030279507837055387), (700, 0.09638859008642588), (701, 0.02094814202380219), (702, 0.06651846544712037), (703, 0.008498295606596757), (704, 0.04380275434104647), (705, 0.028552846200167542), (706, 0.02860701409191811), (707, 0.018803993004178104), (708, 0.033497982645708316), (709, 0.00782448768227321), (710, 0.01732610387738012), (711, 0.03531684220170006), (712, 0.03379437000450312), (713, 0.0), (714, 0.0), (715, 0.0343738330804873), (716, 0.0621215675522159), (717, 0.02733425327410776), (718, 0.08506902459804502), (719, 0.06188828549774553), (720, 0.016424695682643913), (721, 0.009700445192492142), (722, 0.041145990762978514), (723, 0.0), (724, 0.04185942026309314), (725, 0.045710330061067284), (726, 0.047350557644481664), (727, 0.012021729659807275), (728, 0.02260196326263994), (729, 0.0), (730, 0.10898545510989721), (731, 0.08984851521375864), (732, 0.014313638903594625), (733, 0.0), (734, 0.015920292441017236), (735, 0.012323313479998002), (736, 0.0334029177142041), (737, 0.05921536465352379), (738, 0.02508395980011693), (739, 0.0), (740, 0.05581161862111592), (741, 0.08493046684397852), (742, 0.08633643102415894), (743, 0.047876002078842544), (744, 0.0), (745, 0.06569266987691671), (746, 0.023373054633370954), (747, 0.015845772899203713), (748, 0.06028573927857183), (749, 0.006622849009001545), (750, 0.0), (751, 0.3231854175942004), (752, 0.02560281179463677), (753, 0.042492899842451526), (754, 0.03145198981062247), (755, 0.05070765667982259), (756, 0.05751949088332904), (757, 0.020001395714521183), (758, 0.013110064253092985), (759, 0.005358725075042726), (760, 0.09348731508172836), (761, 0.040046174094700016), (762, 0.024380198961609586), (763, 0.031048594526498944), (764, 0.014668972352891213), (765, 0.028252390340126943), (766, 0.0413307996589807), (767, 0.0), (768, 0.060305219814687984), (769, 0.09099160726669854), (770, 0.010034203231229805), (771, 0.03818395699492696), (772, 0.03660701499813364), (773, 0.01627264085766776), (774, 0.024706038118073235), (775, 0.03751290663186886), (776, 0.03392372656762551), (777, 0.06009118521943027), (778, 0.04466171749973444), (779, 0.01910460657417031), (780, 0.008879231686829296), (781, 0.0), (782, 0.010612865999130923), (783, 0.013136075631499888), (784, 0.04693597027566336), (785, 0.03796402627630658), (786, 0.017119786677362137), (787, 0.36816328522541863), (788, 0.16475313654584686), (789, 0.044071859043008275), (790, 0.0), (791, 0.02079896818377385), (792, 0.04459937191725253), (793, 0.23480336515121), (794, 0.022979025011617023), (795, 0.052948290438983414), (796, 0.11411953857587125), (797, 0.010541037892312073), (798, 0.0070143952650097005), (799, 0.07144327901141248), (800, 0.012946011235564025), (801, 0.029807883439910622), (802, 0.10007612454845868), (803, 0.014681803386428455), (804, 0.01183344737597736), (805, 0.02492576967216401), (806, 0.019336244181290416), (807, 0.026531444338736544), (808, 0.10817080040882508), (809, 0.010967175179353653), (810, 0.03143490386931674), (811, 0.0), (812, 0.030279445479337128), (813, 0.008769885329494725), (814, 0.04719415268411563), (815, 0.010265976860936391), (816, 0.01650574963818492), (817, 0.0), (818, 0.0), (819, 0.02919961698813787), (820, 0.04330013409292741), (821, 0.005509868642270158), (822, 0.02084265293405454), (823, 0.03695703507541791), (824, 0.027822383428262085), (825, 0.023338206054110203), (826, 0.01920080686081538), (827, 0.021307902163470775), (828, 0.0), (829, 0.04496676677325987), (830, 0.030058706119784867), (831, 0.04818808639329339), (832, 0.02084192241716302), (833, 0.006598876887654815), (834, 0.00828566693263728), (835, 0.0), (836, 0.06106097693973668), (837, 0.08734985263373818), (838, 0.012345950717744742), (839, 0.12871511408391462), (840, 0.0), (841, 0.00838984850439214), (842, 0.011671744536871453), (843, 0.007521468546358312), (844, 0.03579683164441697), (845, 0.02864181129453754), (846, 0.13891928386823227), (847, 0.03919257438878615), (848, 0.026112568012021387), (849, 0.009090834914004378), (850, 0.009874516842857289), (851, 0.013316261774467916), (852, 0.0), (853, 0.026119305270991516), (854, 0.02276279610915672), (855, 0.021273368539040514), (856, 0.057901326452442246), (857, 0.046063488819040946), (858, 0.19028368454242942), (859, 0.031673820720976374), (860, 0.0070891707987882895), (861, 0.03576857021664896), (862, 0.29891540793470045), (863, 0.04278333075475479), (864, 0.0061980371791334424), (865, 0.021826494387828195), (866, 0.024014603983902608), (867, 0.04307446878381384), (868, 0.2217629179511648), (869, 0.0152817183658975), (870, 0.020199936615928473), (871, 0.0), (872, 0.02379512251321673), (873, 0.02675077866983222), (874, 0.02866133563228821), (875, 0.013937300649625808), (876, 0.0), (877, 0.02628830760007081), (878, 0.009271010801746148), (879, 0.014187468636472102), (880, 0.024921501115811456), (881, 0.004642535528229216), (882, 0.024552588243760692), (883, 0.039056045771899715), (884, 0.00961842536772957), (885, 0.06336458906386232), (886, 0.03546038786612092), (887, 0.04263146090555063), (888, 0.04540750366574239), (889, 0.026457078349264616), (890, 0.010922394367471337), (891, 0.026014854215385862), (892, 0.023846097174403696), (893, 0.0), (894, 0.0), (895, 0.09579311322816704), (896, 0.009720234951758082), (897, 0.012272901444039218), (898, 0.011894284876723064), (899, 0.019614142184086233), (900, 0.15272021640677488), (901, 0.0370213140215372), (902, 0.017849881946857174), (903, 0.017812921131653926), (904, 0.0), (905, 0.017061132927932432), (906, 0.0), (907, 0.06785015221318882), (908, 0.05127398364730418), (909, 0.0), (910, 0.009020945210415746), (911, 0.033735766685215336), (912, 0.06901375832574566), (913, 0.0318992695484611), (914, 0.025952550513892475), (915, 0.0149320294353565), (916, 0.047659099952224754), (917, 0.0), (918, 0.024506310561522367), (919, 0.013519907340535594), (920, 0.0), (921, 0.028956050463641143), (922, 0.0), (923, 0.03983367686922901), (924, 0.03489492613583681), (925, 0.0), (926, 0.0), (927, 0.016058457515589278), (928, 0.031244906729830338), (929, 0.016832382465604284), (930, 0.01281779412178024), (931, 0.02562684603562821), (932, 0.03513561909502702), (933, 0.03662596142892546), (934, 0.02255555059158648), (935, 0.0), (936, 0.09271626271783041), (937, 0.0478496038422616), (938, 0.02070779582164807), (939, 0.0), (940, 0.05669009812547269), (941, 0.03805298781160313), (942, 0.03695954420524396), (943, 0.009818569366562526), (944, 0.026820710592269505), (945, 0.05632423587958373), (946, 0.025117816951514993), (947, 0.3219180792379986), (948, 0.005769249724227935), (949, 0.0), (950, 0.01082004455258046), (951, 0.010078096576946909), (952, 0.01127301152803692), (953, 0.12509466396638166), (954, 0.028263353493057402), (955, 0.02691550294264282), (956, 0.009213523718307576), (957, 0.030556485255359932), (958, 0.01038273393285629), (959, 0.01728074184952283), (960, 0.26446981248152723), (961, 0.02393173099204224), (962, 0.10107718013569628), (963, 0.007915678966186486), (964, 0.0069381562613921146), (965, 0.017991436511425173), (966, 0.0), (967, 0.021884259411703428), (968, 0.020437273435670256), (969, 0.0), (970, 0.012504533815374808), (971, 0.017702834253344457), (972, 0.012374358717871322), (973, 0.00652959839951278), (974, 0.08737994966569874), (975, 0.03217117107929167), (976, 0.042702907726443556), (977, 0.0), (978, 0.016944781755670102), (979, 0.029264122775022175), (980, 0.02453875589180248), (981, 0.058700593606961005), (982, 0.022991715577895706), (983, 0.0), (984, 0.03369285753580559), (985, 0.061130267765822685), (986, 0.011259422099485002), (987, 0.03294115665193377), (988, 0.0), (989, 0.025888970931865308), (990, 0.022584510212085785), (991, 0.026380981776053695), (992, 0.06158332855803299), (993, 0.009644272104327792), (994, 0.019735077142813945), (995, 0.01185431121448119), (996, 0.014294294019088832), (997, 0.03305747011609104), (998, 0.056581681647430535), (999, 0.0), (1000, 0.0), (1001, 0.102215706758709), (1002, 0.04799869872873071), (1003, 0.010166002073030566), (1004, 1.0000000000000004), (1005, 0.05527295938003081), (1006, 0.021263741619493404), (1007, 0.03911120116673749), (1008, 0.015035785658823141), (1009, 0.010617451564284038), (1010, 0.029996022535751905), (1011, 0.03209409354274403), (1012, 0.02758121342870695), (1013, 0.0), (1014, 0.0), (1015, 0.0532299638297585), (1016, 0.04357351962007353), (1017, 0.12955706029152372), (1018, 0.04964694485144573), (1019, 0.01670516561896888), (1020, 0.10725077605873112), (1021, 0.11707649758060576), (1022, 0.06197332098808455), (1023, 0.009682629394469122), (1024, 0.0), (1025, 0.05916332293605228), (1026, 0.06628916200706553), (1027, 0.007201412883992048), (1028, 0.0), (1029, 0.0), (1030, 0.03620877895102444), (1031, 0.0), (1032, 0.028097056367722008), (1033, 0.011664755723230414), (1034, 0.0), (1035, 0.03623631719924892), (1036, 0.044027395412474676), (1037, 0.009107583190559062), (1038, 0.01013596400556363), (1039, 0.0), (1040, 0.0), (1041, 0.0), (1042, 0.0), (1043, 0.0), (1044, 0.0), (1045, 0.11149288941129408), (1046, 0.00903402737768858), (1047, 0.009322277683271521), (1048, 0.0), (1049, 0.009102176077156025), (1050, 0.034543760133385996), (1051, 0.045090306951636086), (1052, 0.03325205542818266), (1053, 0.0), (1054, 0.08503408934619806), (1055, 0.01038922985867589), (1056, 0.03301104075462908), (1057, 0.0), (1058, 0.0), (1059, 0.0), (1060, 0.0), (1061, 0.0332686636950346), (1062, 0.050368720508852126), (1063, 0.034297037342069576), (1064, 0.0), (1065, 0.0), (1066, 0.0), (1067, 0.02481834383901999), (1068, 0.0), (1069, 0.023307764771242218), (1070, 0.0), (1071, 0.0), (1072, 0.0), (1073, 0.0), (1074, 0.012559218294202923), (1075, 0.06080854565264241), (1076, 0.07168022751184487), (1077, 0.02762878710510692), (1078, 0.0), (1079, 0.30774977980739726), (1080, 0.03814976070822697), (1081, 0.05298645993976339), (1082, 0.0), (1083, 0.03068156089120632), (1084, 0.01436620520788644), (1085, 0.012684031972968019), (1086, 0.05347677060434168), (1087, 0.034250711960627955), (1088, 0.03969933085389801), (1089, 0.0), (1090, 0.0), (1091, 0.043471674903962226), (1092, 0.020506090007792056), (1093, 0.013359077331626829), (1094, 0.03408020114121779), (1095, 0.03492353757858048), (1096, 0.24153880262527974), (1097, 0.0), (1098, 0.0), (1099, 0.03311318814646607), (1100, 0.004627050341884063), (1101, 0.03320946731024954), (1102, 0.05641624345996648), (1103, 0.0), (1104, 0.05230673005417347), (1105, 0.04634471662195708), (1106, 0.026830279469710644), (1107, 0.038195124044279605), (1108, 0.0), (1109, 0.0), (1110, 0.02979301509659995), (1111, 0.05053568026341855), (1112, 0.0717028100458525), (1113, 0.1225980888736268), (1114, 0.05141682184279208), (1115, 0.0), (1116, 0.0), (1117, 0.01478442709129229), (1118, 0.0), (1119, 0.023575961171560904), (1120, 0.07017097259027605), (1121, 0.017643181365355993), (1122, 0.0), (1123, 0.022479642726415394), (1124, 0.0), (1125, 0.016994977609869216), (1126, 0.019364881727809896), (1127, 0.0), (1128, 0.02027682137490977), (1129, 0.0109751383933847), (1130, 0.0), (1131, 0.06399702898007334), (1132, 0.0279314442222019), (1133, 0.07279262585483834), (1134, 0.013938184476051146), (1135, 0.0), (1136, 0.23357916679240584), (1137, 0.033234001912188144), (1138, 0.03923300019032955), (1139, 0.0), (1140, 0.01190707025036409), (1141, 0.033347664409757886), (1142, 0.08173285077246133), (1143, 0.038122978214644526), (1144, 0.0466878373631949), (1145, 0.0094547797160856), (1146, 0.00874813221449587), (1147, 0.017981385961682174), (1148, 0.0), (1149, 0.011456778634565042), (1150, 0.025418617216313222), (1151, 0.012304165182837097), (1152, 0.013598919208897687), (1153, 0.011188343767734792), (1154, 0.02418313284656642), (1155, 0.03955490355161833), (1156, 0.0), (1157, 0.0), (1158, 0.019162283650860312), (1159, 0.06589188366625785), (1160, 0.00935415062971825), (1161, 0.0), (1162, 0.03620469665999593), (1163, 0.039191368475476114), (1164, 0.0056735303603748215), (1165, 0.05961242380694358), (1166, 0.0), (1167, 0.0255774296381528), (1168, 0.0), (1169, 0.0), (1170, 0.011851377953315324), (1171, 0.05172172882331491), (1172, 0.04644950801483104), (1173, 0.0), (1174, 0.07587780327886039), (1175, 0.049630908943642985), (1176, 0.00793630885082239), (1177, 0.10569259685831792), (1178, 0.0), (1179, 0.013239144884035417), (1180, 0.04938070369876607), (1181, 0.0), (1182, 0.034398178912569716), (1183, 0.023820480748340624), (1184, 0.019610187593119853), (1185, 0.0), (1186, 0.03473892536057214), (1187, 0.0), (1188, 0.0), (1189, 0.18846178468796257), (1190, 0.028926469974029114), (1191, 0.010407437842238637), (1192, 0.009120806784551762), (1193, 0.027286719371859162), (1194, 0.0), (1195, 0.05907809280031796), (1196, 0.013929587698840359), (1197, 0.02858387114239415), (1198, 0.24237765833378158), (1199, 0.0), (1200, 0.0), (1201, 0.0), (1202, 0.0), (1203, 0.010969676963900667), (1204, 0.0), (1205, 0.024806618549092246), (1206, 0.08331900733840146), (1207, 0.018508974251721218), (1208, 0.0), (1209, 0.0), (1210, 0.04996569923957675), (1211, 0.03202287656535302), (1212, 0.013183651129891727), (1213, 0.010857948837201925), (1214, 0.0), (1215, 0.0), (1216, 0.02208751895939216), (1217, 0.046311623908493416), (1218, 0.0), (1219, 0.03756886562495444), (1220, 0.006090884605357052), (1221, 0.038919872776954495), (1222, 0.0), (1223, 0.01933739532754256), (1224, 0.00965985091834972), (1225, 0.020876718206175468), (1226, 0.028206638789727685), (1227, 0.0), (1228, 0.04860696243259628), (1229, 0.0), (1230, 0.02632024790063745), (1231, 0.009475557789342818), (1232, 0.054670039019712145), (1233, 0.054465403032213935), (1234, 0.020284642348847214), (1235, 0.012849704445450106), (1236, 0.007261534861296836), (1237, 0.010324766389111267), (1238, 0.01869305388543642), (1239, 0.012051911119080787), (1240, 0.0), (1241, 0.024285966715189188), (1242, 0.0), (1243, 0.02491677795602471), (1244, 0.05379244069372586), (1245, 0.0), (1246, 0.011271707044321991), (1247, 0.045804247264808556), (1248, 0.012135257994359815), (1249, 0.0), (1250, 0.0348366051829909), (1251, 0.0), (1252, 0.003440169798789776), (1253, 0.0), (1254, 0.0), (1255, 0.025506871100143623), (1256, 0.0997607986469822), (1257, 0.0), (1258, 0.012111390287582473), (1259, 0.03783710166653249), (1260, 0.013487760237062905), (1261, 0.03560276755014534), (1262, 0.0), (1263, 0.006579862523074312), (1264, 0.02913880008025818), (1265, 0.009823407091971853), (1266, 0.01454164928646444), (1267, 0.0), (1268, 0.01632843134623304), (1269, 0.0), (1270, 0.03228317299613381), (1271, 0.015933050997942025), (1272, 0.022673862024403905), (1273, 0.013147321888086254), (1274, 0.006722220882112169), (1275, 0.0067614762700963765), (1276, 0.0), (1277, 0.02430815490744448), (1278, 0.0), (1279, 0.0), (1280, 0.0), (1281, 0.019162440244871987), (1282, 0.0), (1283, 0.054750779833605365)]\n"
     ]
    }
   ],
   "source": [
    "# getting a list of similar movies\n",
    "\n",
    "similarity_score = list(enumerate(similarity[index_of_the_movie])) #ennumerate is used to run a loop/iteration in a list\n",
    "print(similarity_score)"
   ]
  },
  {
   "cell_type": "code",
   "execution_count": 333,
   "id": "91fd697a",
   "metadata": {},
   "outputs": [
    {
     "name": "stdout",
     "output_type": "stream",
     "text": [
      "[(1004, 1.0000000000000004), (557, 0.36927562881743475), (787, 0.36816328522541863), (751, 0.3231854175942004), (947, 0.3219180792379986), (1079, 0.30774977980739726), (862, 0.29891540793470045), (960, 0.26446981248152723), (1198, 0.24237765833378158), (1096, 0.24153880262527974), (793, 0.23480336515121), (1136, 0.23357916679240584), (140, 0.223842692044883), (72, 0.2226247387359236), (868, 0.2217629179511648), (48, 0.2199990865789529), (574, 0.21771294172225397), (99, 0.1994469906433739), (858, 0.19028368454242942), (1189, 0.18846178468796257), (198, 0.18751050419263304), (146, 0.18374549014607602), (554, 0.17006151013951565), (219, 0.1667843583432766), (788, 0.16475313654584686), (3, 0.1589305944317918), (417, 0.15770851816800585), (687, 0.15668657239865924), (659, 0.15385056559667387), (166, 0.1528828508013863), (900, 0.15272021640677488), (410, 0.14804127988163954), (122, 0.14184907354678172), (846, 0.13891928386823227), (282, 0.13797990815461172), (27, 0.13627033111025624), (474, 0.13580359540128173), (475, 0.13542981403197835), (302, 0.12983664695045863), (319, 0.12961078159291578), (1017, 0.12955706029152372), (839, 0.12871511408391462), (295, 0.12787774772783697), (133, 0.12718259817478222), (414, 0.1262881532998777), (349, 0.12596530484824925), (953, 0.12509466396638166), (4, 0.1232841479589712), (333, 0.12327796620291664), (582, 0.12262616503840024), (1113, 0.1225980888736268), (573, 0.12196186952149633), (634, 0.12192323007742598), (667, 0.12171672320870294), (441, 0.1215167525571686), (617, 0.11898676926124101), (450, 0.11883212987871361), (1021, 0.11707649758060576), (460, 0.11440304671510115), (796, 0.11411953857587125), (555, 0.11391670260391298), (373, 0.11166312736124058), (1045, 0.11149288941129408), (208, 0.11081516682848092), (159, 0.11025401152763875), (274, 0.1101684594913921), (357, 0.10995626386866868), (730, 0.10898545510989721), (188, 0.10878164905591114), (808, 0.10817080040882508), (143, 0.10748030361697164), (1020, 0.10725077605873112), (660, 0.10653351947427439), (170, 0.10579269529360842), (1177, 0.10569259685831792), (466, 0.10549624066961955), (671, 0.10475132891356995), (201, 0.10413724388998336), (467, 0.10340044981560288), (289, 0.10327800793518581), (335, 0.10309854198083994), (462, 0.10306330076707859), (355, 0.1022918816799282), (1001, 0.102215706758709), (962, 0.10107718013569628), (802, 0.10007612454845868), (1256, 0.0997607986469822), (654, 0.09933955064297688), (334, 0.09819405624820585), (700, 0.09638859008642588), (262, 0.09621703677379505), (674, 0.09597853734597245), (895, 0.09579311322816704), (627, 0.09569497638811511), (314, 0.09515677853406154), (9, 0.09505964063418362), (626, 0.09481728728606739), (618, 0.09467157038819679), (84, 0.09433040287785946), (318, 0.09349403784839434), (760, 0.09348731508172836), (936, 0.09271626271783041), (637, 0.09259410747225172), (769, 0.09099160726669854), (6, 0.09095081364059865), (7, 0.09086224902510898), (692, 0.08985335249048179), (731, 0.08984851521375864), (271, 0.08945765925103709), (107, 0.08867617008871445), (130, 0.0884435363242283), (272, 0.08832824889178914), (435, 0.08832806408194022), (974, 0.08737994966569874), (837, 0.08734985263373818), (673, 0.08725545612013046), (134, 0.08636958224634445), (742, 0.08633643102415894), (180, 0.08555820983563839), (307, 0.08534954500253228), (718, 0.08506902459804502), (1054, 0.08503408934619806), (741, 0.08493046684397852), (468, 0.08419508444852736), (264, 0.08416486904713362), (5, 0.08410685307130877), (1206, 0.08331900733840146), (51, 0.08179665537753913), (1142, 0.08173285077246133), (101, 0.08128202594708037), (656, 0.0804539013488953), (364, 0.0797557278294209), (85, 0.07966332553847445), (183, 0.07957701288164118), (362, 0.07903254124998482), (615, 0.07830517423336172), (240, 0.07789513405698), (470, 0.07670624432710724), (596, 0.07658207044890743), (181, 0.07637087475994397), (1174, 0.07587780327886039), (125, 0.07566546290287748), (558, 0.07478797172293349), (379, 0.07473225668755903), (278, 0.0745912094943736), (154, 0.0742511348476233), (171, 0.07410489273182018), (415, 0.07333951099361426), (488, 0.07292524451566863), (1133, 0.07279262585483834), (94, 0.07210410020404182), (336, 0.07172554561461847), (1112, 0.0717028100458525), (1076, 0.07168022751184487), (799, 0.07144327901141248), (413, 0.07136092870255327), (131, 0.07126760397760518), (49, 0.0705606909406847), (1120, 0.07017097259027605), (622, 0.06956766337474644), (152, 0.0692402458940001), (912, 0.06901375832574566), (60, 0.06891437142806014), (315, 0.06832068277331292), (390, 0.06827008009247658), (323, 0.06792947228625099), (643, 0.06787216733465512), (907, 0.06785015221318882), (537, 0.0670018388468279), (63, 0.0668659517557218), (251, 0.06684582900345992), (702, 0.06651846544712037), (1026, 0.06628916200706553), (175, 0.06621780636108686), (556, 0.06615052758707092), (59, 0.06602351378812102), (1159, 0.06589188366625785), (745, 0.06569266987691671), (232, 0.06460546331531346), (195, 0.06456684701981166), (138, 0.06423118172523437), (293, 0.0641652116373584), (1131, 0.06399702898007334), (571, 0.06351983567466221), (885, 0.06336458906386232), (199, 0.06335681974647081), (26, 0.06324855858777756), (18, 0.06261222835415713), (440, 0.06260216695607718), (494, 0.06258469271306653), (86, 0.06246063775936869), (432, 0.06228244978229111), (716, 0.0621215675522159), (1022, 0.06197332098808455), (719, 0.06188828549774553), (992, 0.06158332855803299), (569, 0.06156371975917159), (222, 0.06133514491228602), (985, 0.061130267765822685), (224, 0.061065616176805844), (836, 0.06106097693973668), (193, 0.06099489467354711), (1075, 0.06080854565264241), (512, 0.06044450528102495), (109, 0.06038267524600272), (768, 0.060305219814687984), (748, 0.06028573927857183), (273, 0.06016321171542287), (777, 0.06009118521943027), (44, 0.05997071608341533), (1165, 0.05961242380694358), (737, 0.05921536465352379), (1025, 0.05916332293605228), (1195, 0.05907809280031796), (981, 0.058700593606961005), (100, 0.05854031866123855), (616, 0.057918023639372235), (856, 0.057901326452442246), (461, 0.05775800499118129), (484, 0.05770930296111503), (756, 0.05751949088332904), (592, 0.057191926207927256), (663, 0.05707708612753801), (119, 0.057026447294691016), (940, 0.05669009812547269), (998, 0.056581681647430535), (1102, 0.05641624345996648), (945, 0.05632423587958373), (567, 0.05630702387861663), (329, 0.055992050104717056), (368, 0.05594891193062178), (686, 0.05589144380344271), (740, 0.05581161862111592), (277, 0.055543667462807034), (1005, 0.05527295938003081), (67, 0.05496077949090486), (600, 0.05492649955032702), (1283, 0.054750779833605365), (1232, 0.054670039019712145), (1233, 0.054465403032213935), (1244, 0.05379244069372586), (639, 0.053499675068946685), (1086, 0.05347677060434168), (549, 0.053232010040440376), (1015, 0.0532299638297585), (589, 0.05317710872761566), (613, 0.05302258136339432), (1081, 0.05298645993976339), (795, 0.052948290438983414), (389, 0.05257182750838302), (402, 0.05254553065937617), (597, 0.05249907794439574), (457, 0.05245357793718116), (189, 0.052352450373483024), (108, 0.052334923239331636), (1104, 0.05230673005417347), (605, 0.05209386976238327), (583, 0.051845662600304654), (560, 0.05172876773957548), (1171, 0.05172172882331491), (1114, 0.05141682184279208), (1, 0.05136108308148732), (908, 0.05127398364730418), (547, 0.05115098622236654), (755, 0.05070765667982259), (313, 0.05063001553768866), (246, 0.050575954823809915), (1111, 0.05053568026341855), (1062, 0.050368720508852126), (1210, 0.04996569923957675), (117, 0.049943594801396), (1018, 0.04964694485144573), (1175, 0.049630908943642985), (186, 0.049462592486472126), (1180, 0.04938070369876607), (124, 0.04910000689343751), (66, 0.04886403492432906), (635, 0.04875535020819158), (485, 0.04869816891162032), (1228, 0.04860696243259628), (372, 0.048565912232468963), (182, 0.04853909751740729), (266, 0.04838353602347019), (570, 0.04826383032947501), (831, 0.04818808639329339), (505, 0.04804143738125806), (1002, 0.04799869872873071), (743, 0.047876002078842544), (612, 0.04787544114316101), (581, 0.047856383581491094), (937, 0.0478496038422616), (194, 0.04775811407279361), (322, 0.047719752478451255), (916, 0.047659099952224754), (354, 0.04746602606897557), (497, 0.04743158574842307), (726, 0.047350557644481664), (259, 0.047303408698731855), (406, 0.047224069511294015), (814, 0.04719415268411563), (305, 0.04715937863424534), (399, 0.047078860120609745), (356, 0.046973488827941674), (784, 0.04693597027566336), (1144, 0.0466878373631949), (83, 0.04650609215825993), (283, 0.04646458815700808), (1172, 0.04644950801483104), (292, 0.04640388990466821), (604, 0.04639197989213797), (40, 0.04637864725983709), (1105, 0.04634471662195708), (200, 0.04632324185053453), (1217, 0.046311623908493416), (611, 0.046256007442634764), (287, 0.046198356132192), (633, 0.04616473361304076), (857, 0.046063488819040946), (13, 0.04590870352123445), (1247, 0.045804247264808556), (725, 0.045710330061067284), (332, 0.04566572907942358), (142, 0.045408942798019436), (888, 0.04540750366574239), (179, 0.045373877246926334), (401, 0.04532713014134433), (431, 0.04525321657786178), (1051, 0.045090306951636086), (829, 0.04496676677325987), (192, 0.04477377791960222), (778, 0.04466171749973444), (792, 0.04459937191725253), (91, 0.044509850134742304), (430, 0.04416728798156744), (789, 0.044071859043008275), (1036, 0.044027395412474676), (397, 0.04393092175295789), (187, 0.04389524855158884), (704, 0.04380275434104647), (1016, 0.04357351962007353), (1091, 0.043471674903962226), (70, 0.0433172741362776), (820, 0.04330013409292741), (316, 0.043206835061389504), (681, 0.04319226511841564), (867, 0.04307446878381384), (337, 0.04283459121047019), (863, 0.04278333075475479), (976, 0.042702907726443556), (887, 0.04263146090555063), (753, 0.042492899842451526), (630, 0.04239708255671356), (471, 0.0422211037569093), (378, 0.0419962759498244), (361, 0.04194409805170668), (98, 0.04187090777189757), (724, 0.04185942026309314), (155, 0.041794567368720476), (309, 0.04172291746822552), (766, 0.0413307996589807), (235, 0.041237829346884816), (722, 0.041145990762978514), (279, 0.0411089991512088), (538, 0.04101317769214873), (383, 0.04056998149727252), (677, 0.040507044758735), (231, 0.04029549718963582), (433, 0.040187448364761055), (25, 0.04017765467981144), (550, 0.040126554550699425), (761, 0.040046174094700016), (403, 0.03989558673199046), (923, 0.03983367686922901), (427, 0.03976333855990283), (648, 0.03972566563864219), (1088, 0.03969933085389801), (1155, 0.03955490355161833), (75, 0.03941680388213416), (503, 0.03935831178132978), (1138, 0.03923300019032955), (847, 0.03919257438878615), (1163, 0.039191368475476114), (147, 0.039186725439351144), (695, 0.03916842731794457), (1007, 0.03911120116673749), (230, 0.03906323267007482), (883, 0.039056045771899715), (174, 0.03903794044010264), (92, 0.03899750509581891), (173, 0.03892466354613535), (1221, 0.038919872776954495), (324, 0.03891145835329319), (172, 0.03861090377521362), (542, 0.03835980482798251), (359, 0.03825915309434155), (366, 0.03823850470121397), (35, 0.03819743266153858), (1107, 0.038195124044279605), (771, 0.03818395699492696), (510, 0.038164453117378386), (1080, 0.03814976070822697), (1143, 0.038122978214644526), (456, 0.03809699960422252), (533, 0.038076347013979786), (941, 0.03805298781160313), (486, 0.037995265128755215), (785, 0.03796402627630658), (258, 0.03783712933783175), (1259, 0.03783710166653249), (666, 0.03782788849041627), (495, 0.03780505724139545), (377, 0.03767475354161554), (157, 0.0376541595136794), (204, 0.03758130175147919), (1219, 0.03756886562495444), (572, 0.037535092507424685), (775, 0.03751290663186886), (697, 0.037508084299663645), (11, 0.03746250664222345), (478, 0.03716083081789461), (280, 0.03715340939516425), (288, 0.03712008531682644), (218, 0.037072336533848366), (901, 0.0370213140215372), (942, 0.03695954420524396), (823, 0.03695703507541791), (628, 0.036948849929841286), (500, 0.036813130824667355), (340, 0.036654236841890085), (933, 0.03662596142892546), (772, 0.03660701499813364), (41, 0.03659147485322817), (8, 0.03648810125844294), (693, 0.03637917088640477), (263, 0.03636553894575686), (683, 0.03634588382691369), (1035, 0.03623631719924892), (1030, 0.03620877895102444), (1162, 0.03620469665999593), (465, 0.03616020266460955), (298, 0.036147640757292675), (113, 0.03595314100958507), (404, 0.035916249293845084), (566, 0.035876726277719886), (624, 0.03586478875243161), (480, 0.03581844117470654), (844, 0.03579683164441697), (861, 0.03576857021664896), (310, 0.035723296449685776), (291, 0.035698191661357216), (1261, 0.03560276755014534), (669, 0.03558468960822597), (886, 0.03546038786612092), (190, 0.03534489329821291), (711, 0.03531684220170006), (249, 0.03527435227619155), (281, 0.03527328098988333), (519, 0.03520718067178086), (578, 0.0351437171712162), (932, 0.03513561909502702), (358, 0.035124806150900384), (603, 0.035116604793586234), (347, 0.034970821722136204), (1095, 0.03492353757858048), (924, 0.03489492613583681), (524, 0.03489468102549801), (543, 0.034890554908189736), (606, 0.034847656179474204), (1250, 0.0348366051829909), (1186, 0.03473892536057214), (1050, 0.034543760133385996), (137, 0.034448834937518595), (1182, 0.034398178912569716), (715, 0.0343738330804873), (610, 0.03435771978744229), (121, 0.03433344127987694), (1063, 0.034297037342069576), (1087, 0.034250711960627955), (444, 0.03423916391180196), (248, 0.03419595565602176), (23, 0.03412568949226493), (88, 0.03408541417581309), (1094, 0.03408020114121779), (548, 0.03399807214451164), (112, 0.033971419659644196), (169, 0.03394293587808091), (551, 0.033941651340979005), (776, 0.03392372656762551), (386, 0.03388714187540863), (712, 0.03379437000450312), (418, 0.03377922356088806), (237, 0.03375144659076782), (911, 0.033735766685215336), (984, 0.03369285753580559), (708, 0.033497982645708316), (736, 0.0334029177142041), (586, 0.03337752511981114), (1141, 0.033347664409757886), (1061, 0.0332686636950346), (1052, 0.03325205542818266), (1137, 0.033234001912188144), (1101, 0.03320946731024954), (1099, 0.03311318814646607), (115, 0.03307554880967278), (997, 0.03305747011609104), (1056, 0.03301104075462908), (987, 0.03294115665193377), (407, 0.032834231903798444), (58, 0.032672580236240464), (625, 0.03258117459423657), (496, 0.032537597841532415), (1270, 0.03228317299613381), (74, 0.03222317159642853), (371, 0.03217332351995056), (975, 0.03217117107929167), (1011, 0.03209409354274403), (1211, 0.03202287656535302), (10, 0.03192954044782295), (161, 0.031915893184391135), (913, 0.0318992695484611), (342, 0.03167872957327528), (859, 0.031673820720976374), (392, 0.03165068384542433), (339, 0.03164146630540075), (546, 0.031585263793841134), (754, 0.03145198981062247), (810, 0.03143490386931674), (482, 0.03143263908612961), (290, 0.03141914795526812), (594, 0.031376466229410725), (87, 0.03131393612369072), (351, 0.03130477595827391), (928, 0.031244906729830338), (409, 0.031109999485598325), (424, 0.031077239019333652), (763, 0.031048594526498944), (0, 0.03097633315749161), (163, 0.030905022031510743), (14, 0.03086339212073385), (682, 0.030775971282348345), (1083, 0.03068156089120632), (690, 0.030672129820359273), (629, 0.030621530371333486), (501, 0.030602842831071793), (957, 0.030556485255359932), (607, 0.030492788630468254), (658, 0.030327758507837463), (105, 0.030321357673553102), (445, 0.030290066603852688), (699, 0.030279507837055387), (812, 0.030279445479337128), (830, 0.030058706119784867), (506, 0.030057487065968447), (679, 0.030000833214713626), (1010, 0.029996022535751905), (609, 0.02996842289017292), (801, 0.029807883439910622), (1110, 0.02979301509659995), (469, 0.02972708682493509), (118, 0.02962494527090817), (408, 0.029611839295221976), (374, 0.02944647257890554), (227, 0.029287075199326426), (979, 0.029264122775022175), (819, 0.02919961698813787), (1264, 0.02913880008025818), (921, 0.028956050463641143), (77, 0.02894702108673257), (367, 0.028937269198258928), (1190, 0.028926469974029114), (564, 0.028893992938323145), (153, 0.028795237010329898), (874, 0.02866133563228821), (845, 0.02864181129453754), (706, 0.02860701409191811), (1197, 0.02858387114239415), (43, 0.02856954850941562), (705, 0.028552846200167542), (97, 0.02848325129351107), (223, 0.02836242945525631), (689, 0.028331466222714166), (954, 0.028263353493057402), (765, 0.028252390340126943), (1226, 0.028206638789727685), (438, 0.028199762375092786), (210, 0.028196690429477766), (68, 0.028161197800114234), (321, 0.028118622329505977), (1032, 0.028097056367722008), (89, 0.027955868360930874), (1132, 0.0279314442222019), (151, 0.02788920903019282), (205, 0.027851503978652967), (824, 0.027822383428262085), (196, 0.02778239476087362), (680, 0.027635727246636814), (1077, 0.02762878710510692), (1012, 0.02758121342870695), (387, 0.027502018001515055), (678, 0.027471827829453545), (522, 0.027428153487691426), (717, 0.02733425327410776), (1193, 0.027286719371859162), (145, 0.02694242815008576), (238, 0.02694177286637779), (955, 0.02691550294264282), (1106, 0.026830279469710644), (944, 0.026820710592269505), (598, 0.026812239101160817), (253, 0.026787020339866283), (873, 0.02675077866983222), (123, 0.026664682226730574), (807, 0.026531444338736544), (42, 0.026509207928935186), (343, 0.026461284928551168), (889, 0.026457078349264616), (991, 0.026380981776053695), (649, 0.026327104613594804), (1230, 0.02632024790063745), (30, 0.026319005869498507), (877, 0.02628830760007081), (614, 0.026193224997092465), (644, 0.026155483740921862), (853, 0.026119305270991516), (848, 0.026112568012021387), (132, 0.026102105263032617), (891, 0.026014854215385862), (651, 0.02596127843984656), (914, 0.025952550513892475), (102, 0.025929259337503802), (989, 0.025888970931865308), (527, 0.02567551470366607), (931, 0.02562684603562821), (752, 0.02560281179463677), (1167, 0.0255774296381528), (55, 0.025550224533499106), (300, 0.025531473999129882), (1255, 0.025506871100143623), (236, 0.025461670507788605), (1150, 0.025418617216313222), (250, 0.025232746101278354), (52, 0.025146887245040876), (946, 0.025117816951514993), (738, 0.02508395980011693), (805, 0.02492576967216401), (880, 0.024921501115811456), (623, 0.024919166747323782), (1243, 0.02491677795602471), (662, 0.024857384193267586), (530, 0.024847298496575396), (110, 0.024829123150661554), (1067, 0.02481834383901999), (1205, 0.024806618549092246), (21, 0.024805370944503004), (513, 0.024771993629704475), (544, 0.02472426050869639), (774, 0.024706038118073235), (498, 0.024645835962906683), (882, 0.024552588243760692), (980, 0.02453875589180248), (918, 0.024506310561522367), (762, 0.024380198961609586), (585, 0.024375440370181918), (228, 0.024352963967488678), (1277, 0.02430815490744448), (1241, 0.024285966715189188), (1154, 0.02418313284656642), (165, 0.02409052786616115), (579, 0.024070380063277375), (866, 0.024014603983902608), (405, 0.02393984348191633), (961, 0.02393173099204224), (562, 0.02385568803279916), (892, 0.023846097174403696), (1183, 0.023820480748340624), (261, 0.023795396893659577), (872, 0.02379512251321673), (650, 0.023764336380517545), (534, 0.023656979798880665), (185, 0.02364109856954204), (1119, 0.023575961171560904), (508, 0.02342101221986761), (559, 0.023414683877366192), (746, 0.023373054633370954), (825, 0.023338206054110203), (1069, 0.023307764771242218), (449, 0.023237652007405032), (541, 0.023221589875242782), (370, 0.023210613820344325), (207, 0.023210420812798522), (160, 0.023127604881167732), (375, 0.023117854320497892), (619, 0.023083746185884012), (400, 0.023069278027510652), (982, 0.022991715577895706), (794, 0.022979025011617023), (590, 0.022960039227722308), (353, 0.022864262017979583), (144, 0.022771769305424166), (854, 0.02276279610915672), (38, 0.02273518960306461), (1272, 0.022673862024403905), (252, 0.022644957694567154), (37, 0.02262480764468212), (728, 0.02260196326263994), (632, 0.02258873985511961), (990, 0.022584510212085785), (504, 0.022568620405893518), (934, 0.02255555059158648), (487, 0.02248261984268044), (1123, 0.022479642726415394), (490, 0.022336099301295455), (242, 0.022181880374020316), (1216, 0.02208751895939216), (229, 0.022001859322571524), (106, 0.02196761696304893), (577, 0.02193171881543378), (967, 0.021884259411703428), (865, 0.021826494387828195), (672, 0.02165394870741266), (545, 0.02147019410734878), (827, 0.021307902163470775), (591, 0.02128667283314795), (855, 0.021273368539040514), (1006, 0.021263741619493404), (552, 0.02120177127605715), (540, 0.020976841268783707), (701, 0.02094814202380219), (670, 0.020887736213620434), (1225, 0.020876718206175468), (80, 0.02087046948787505), (822, 0.02084265293405454), (832, 0.02084192241716302), (791, 0.02079896818377385), (39, 0.020797785720156056), (376, 0.020731408533359266), (476, 0.020725487503920725), (938, 0.02070779582164807), (481, 0.020665689861396268), (532, 0.020584992843705692), (696, 0.02054807696134849), (1092, 0.020506090007792056), (968, 0.020437273435670256), (330, 0.02034928537762219), (301, 0.02030593135342569), (1234, 0.020284642348847214), (1128, 0.02027682137490977), (684, 0.02023132819934374), (489, 0.020211154857193915), (870, 0.020199936615928473), (350, 0.02014103310697206), (757, 0.020001395714521183), (657, 0.019946249874216688), (994, 0.019735077142813945), (491, 0.01972503215467055), (365, 0.01971652645230416), (899, 0.019614142184086233), (1184, 0.019610187593119853), (526, 0.0195533249886873), (203, 0.019412141625655965), (1126, 0.019364881727809896), (1223, 0.01933739532754256), (806, 0.019336244181290416), (215, 0.019326548129781525), (826, 0.01920080686081538), (652, 0.01917589403726889), (1281, 0.019162440244871987), (1158, 0.019162283650860312), (779, 0.01910460657417031), (284, 0.018862729279732933), (707, 0.018803993004178104), (1238, 0.01869305388543642), (665, 0.01856141564226562), (1207, 0.018508974251721218), (245, 0.018325533491490718), (568, 0.018265270435528703), (148, 0.018198049378649876), (81, 0.018094077165317406), (646, 0.018073140650578415), (209, 0.017999150768304252), (965, 0.017991436511425173), (1147, 0.017981385961682174), (529, 0.017958762396020685), (396, 0.017935423596674528), (902, 0.017849881946857174), (516, 0.017836517337996058), (903, 0.017812921131653926), (54, 0.017743639944970056), (971, 0.017702834253344457), (1121, 0.017643181365355993), (31, 0.01737427321843104), (448, 0.017343289903048537), (710, 0.01732610387738012), (459, 0.017284686223561954), (959, 0.01728074184952283), (786, 0.017119786677362137), (905, 0.017061132927932432), (104, 0.01702005700116598), (1125, 0.016994977609869216), (978, 0.016944781755670102), (518, 0.016883042206591106), (929, 0.016832382465604284), (216, 0.01679104271427078), (1019, 0.01670516561896888), (668, 0.016661702557971163), (177, 0.016616176789728408), (816, 0.01650574963818492), (720, 0.016424695682643913), (69, 0.016408014058146562), (1268, 0.01632843134623304), (539, 0.016309210441122653), (773, 0.01627264085766776), (631, 0.016107913737860035), (927, 0.016058457515589278), (1271, 0.015933050997942025), (734, 0.015920292441017236), (747, 0.015845772899203713), (636, 0.015784021752018), (458, 0.015642930901426797), (184, 0.01563778361369585), (150, 0.015509298409943546), (53, 0.01529012986974209), (869, 0.0152817183658975), (311, 0.015247392183242222), (447, 0.015183129256716827), (256, 0.015090095519967586), (1008, 0.015035785658823141), (220, 0.015011664071395512), (915, 0.0149320294353565), (197, 0.014930874846556525), (1117, 0.01478442709129229), (275, 0.014737760765286708), (803, 0.014681803386428455), (369, 0.014672200734540284), (764, 0.014668972352891213), (141, 0.01464038891673409), (1266, 0.01454164928646444), (33, 0.014483813460534949), (32, 0.01443746103173056), (1084, 0.01436620520788644), (416, 0.014319591475375575), (732, 0.014313638903594625), (996, 0.014294294019088832), (64, 0.014199471369276937), (328, 0.01419671835765081), (879, 0.014187468636472102), (62, 0.01418744043560863), (348, 0.01407392173929131), (412, 0.013965925213970677), (267, 0.01394865021230768), (1134, 0.013938184476051146), (875, 0.013937300649625808), (1196, 0.013929587698840359), (621, 0.013904022799568752), (299, 0.013842721630792882), (553, 0.013605497533167418), (257, 0.01360483516282514), (1152, 0.013598919208897687), (422, 0.013593160714800477), (919, 0.013519907340535594), (1260, 0.013487760237062905), (206, 0.01346442888044669), (136, 0.013444270047471597), (47, 0.013436587588673025), (520, 0.013404550600961282), (1093, 0.013359077331626829), (239, 0.013333837666489151), (661, 0.013325795271081077), (851, 0.013316261774467916), (421, 0.013314541971090218), (1179, 0.013239144884035417), (95, 0.01322756106381666), (2, 0.013215369775955155), (1212, 0.013183651129891727), (178, 0.01315537351946923), (1273, 0.013147321888086254), (783, 0.013136075631499888), (507, 0.01313422692419257), (758, 0.013110064253092985), (127, 0.013057118111181328), (167, 0.013051893586446652), (244, 0.013048712683132626), (800, 0.012946011235564025), (1235, 0.012849704445450106), (642, 0.012821222294731002), (930, 0.01281779412178024), (1085, 0.012684031972968019), (420, 0.012671511418781273), (114, 0.012646264081564424), (103, 0.012611993476972769), (312, 0.012598294522713294), (139, 0.012588754315679485), (521, 0.012569798546354153), (1074, 0.012559218294202923), (970, 0.012504533815374808), (972, 0.012374358717871322), (304, 0.012371632654997664), (838, 0.012345950717744742), (601, 0.012341802372327508), (620, 0.012340642010287603), (735, 0.012323313479998002), (451, 0.01231351951426343), (1151, 0.012304165182837097), (897, 0.012272901444039218), (473, 0.012261257738001024), (436, 0.012216897458994772), (1248, 0.012135257994359815), (425, 0.012129662270901315), (1258, 0.012111390287582473), (234, 0.012104620710743785), (76, 0.012068642038556617), (1239, 0.012051911119080787), (727, 0.012021729659807275), (241, 0.012001858278547764), (1140, 0.01190707025036409), (898, 0.011894284876723064), (995, 0.01185431121448119), (1170, 0.011851377953315324), (804, 0.01183344737597736), (306, 0.011681391254600772), (842, 0.011671744536871453), (1033, 0.011664755723230414), (149, 0.011610393014132941), (156, 0.01158147101190609), (1149, 0.011456778634565042), (158, 0.011453212929129434), (575, 0.01143717220038602), (308, 0.011418537048855176), (212, 0.011382714413146493), (952, 0.01127301152803692), (1246, 0.011271707044321991), (986, 0.011259422099485002), (1153, 0.011188343767734792), (162, 0.011142647719009427), (641, 0.011059331935176872), (640, 0.011038931692829813), (1129, 0.0109751383933847), (1203, 0.010969676963900667), (809, 0.010967175179353653), (890, 0.010922394367471337), (297, 0.010872071279554066), (1213, 0.010857948837201925), (950, 0.01082004455258046), (225, 0.010705314304848166), (698, 0.010623513815784224), (1009, 0.010617451564284038), (782, 0.010612865999130923), (797, 0.010541037892312073), (493, 0.010507121803236987), (655, 0.010457525573909415), (1191, 0.010407437842238637), (1055, 0.01038922985867589), (958, 0.01038273393285629), (1237, 0.010324766389111267), (653, 0.010309922446608104), (675, 0.010293752788295736), (815, 0.010265976860936391), (90, 0.010225801322175704), (472, 0.010181770305723096), (1003, 0.010166002073030566), (588, 0.01016369433007856), (1038, 0.01013596400556363), (395, 0.010131536067576807), (111, 0.010127276445907553), (71, 0.010122537585033389), (951, 0.010078096576946909), (770, 0.010034203231229805), (93, 0.010011632514891445), (850, 0.009874516842857289), (1265, 0.009823407091971853), (943, 0.009818569366562526), (896, 0.009720234951758082), (721, 0.009700445192492142), (599, 0.009695339588206058), (1023, 0.009682629394469122), (1224, 0.00965985091834972), (993, 0.009644272104327792), (884, 0.00961842536772957), (381, 0.009476696662133442), (1231, 0.009475557789342818), (380, 0.009457151956900325), (1145, 0.0094547797160856), (602, 0.009413462915498931), (1160, 0.00935415062971825), (1047, 0.009322277683271521), (442, 0.009316899501325526), (878, 0.009271010801746148), (956, 0.009213523718307576), (1192, 0.009120806784551762), (1037, 0.009107583190559062), (1049, 0.009102176077156025), (849, 0.009090834914004378), (1046, 0.00903402737768858), (910, 0.009020945210415746), (214, 0.008912718599014272), (528, 0.008881321112898759), (780, 0.008879231686829296), (676, 0.008865616983053614), (813, 0.008769885329494725), (1146, 0.00874813221449587), (703, 0.008498295606596757), (841, 0.00838984850439214), (834, 0.00828566693263728), (647, 0.008268199842241334), (1176, 0.00793630885082239), (963, 0.007915678966186486), (709, 0.00782448768227321), (29, 0.007740158568856797), (843, 0.007521468546358312), (338, 0.007385933598587852), (1236, 0.007261534861296836), (1027, 0.007201412883992048), (860, 0.0070891707987882895), (515, 0.007032426533248241), (798, 0.0070143952650097005), (664, 0.006944704851562535), (964, 0.0069381562613921146), (1275, 0.0067614762700963765), (1274, 0.006722220882112169), (749, 0.006622849009001545), (833, 0.006598876887654815), (1263, 0.006579862523074312), (320, 0.006537859288959685), (973, 0.00652959839951278), (45, 0.0065079396266994535), (565, 0.006417354521193076), (286, 0.006375829928066897), (864, 0.0061980371791334424), (411, 0.006189071875759358), (419, 0.0061761615948170215), (483, 0.006125235075564156), (1220, 0.006090884605357052), (691, 0.006018636201798208), (587, 0.005800012342508997), (948, 0.005769249724227935), (34, 0.005738130104902448), (1164, 0.0056735303603748215), (517, 0.005642400132310166), (821, 0.005509868642270158), (759, 0.005358725075042726), (331, 0.005309300138093741), (881, 0.004642535528229216), (1100, 0.004627050341884063), (1252, 0.003440169798789776), (12, 0.0), (15, 0.0), (16, 0.0), (17, 0.0), (19, 0.0), (20, 0.0), (22, 0.0), (24, 0.0), (28, 0.0), (36, 0.0), (46, 0.0), (50, 0.0), (56, 0.0), (57, 0.0), (61, 0.0), (65, 0.0), (73, 0.0), (78, 0.0), (79, 0.0), (82, 0.0), (96, 0.0), (116, 0.0), (120, 0.0), (126, 0.0), (128, 0.0), (129, 0.0), (135, 0.0), (164, 0.0), (168, 0.0), (176, 0.0), (191, 0.0), (202, 0.0), (211, 0.0), (213, 0.0), (217, 0.0), (221, 0.0), (226, 0.0), (233, 0.0), (243, 0.0), (247, 0.0), (254, 0.0), (255, 0.0), (260, 0.0), (265, 0.0), (268, 0.0), (269, 0.0), (270, 0.0), (276, 0.0), (285, 0.0), (294, 0.0), (296, 0.0), (303, 0.0), (317, 0.0), (325, 0.0), (326, 0.0), (327, 0.0), (341, 0.0), (344, 0.0), (345, 0.0), (346, 0.0), (352, 0.0), (360, 0.0), (363, 0.0), (382, 0.0), (384, 0.0), (385, 0.0), (388, 0.0), (391, 0.0), (393, 0.0), (394, 0.0), (398, 0.0), (423, 0.0), (426, 0.0), (428, 0.0), (429, 0.0), (434, 0.0), (437, 0.0), (439, 0.0), (443, 0.0), (446, 0.0), (452, 0.0), (453, 0.0), (454, 0.0), (455, 0.0), (463, 0.0), (464, 0.0), (477, 0.0), (479, 0.0), (492, 0.0), (499, 0.0), (502, 0.0), (509, 0.0), (511, 0.0), (514, 0.0), (523, 0.0), (525, 0.0), (531, 0.0), (535, 0.0), (536, 0.0), (561, 0.0), (563, 0.0), (576, 0.0), (580, 0.0), (584, 0.0), (593, 0.0), (595, 0.0), (608, 0.0), (638, 0.0), (645, 0.0), (685, 0.0), (688, 0.0), (694, 0.0), (713, 0.0), (714, 0.0), (723, 0.0), (729, 0.0), (733, 0.0), (739, 0.0), (744, 0.0), (750, 0.0), (767, 0.0), (781, 0.0), (790, 0.0), (811, 0.0), (817, 0.0), (818, 0.0), (828, 0.0), (835, 0.0), (840, 0.0), (852, 0.0), (871, 0.0), (876, 0.0), (893, 0.0), (894, 0.0), (904, 0.0), (906, 0.0), (909, 0.0), (917, 0.0), (920, 0.0), (922, 0.0), (925, 0.0), (926, 0.0), (935, 0.0), (939, 0.0), (949, 0.0), (966, 0.0), (969, 0.0), (977, 0.0), (983, 0.0), (988, 0.0), (999, 0.0), (1000, 0.0), (1013, 0.0), (1014, 0.0), (1024, 0.0), (1028, 0.0), (1029, 0.0), (1031, 0.0), (1034, 0.0), (1039, 0.0), (1040, 0.0), (1041, 0.0), (1042, 0.0), (1043, 0.0), (1044, 0.0), (1048, 0.0), (1053, 0.0), (1057, 0.0), (1058, 0.0), (1059, 0.0), (1060, 0.0), (1064, 0.0), (1065, 0.0), (1066, 0.0), (1068, 0.0), (1070, 0.0), (1071, 0.0), (1072, 0.0), (1073, 0.0), (1078, 0.0), (1082, 0.0), (1089, 0.0), (1090, 0.0), (1097, 0.0), (1098, 0.0), (1103, 0.0), (1108, 0.0), (1109, 0.0), (1115, 0.0), (1116, 0.0), (1118, 0.0), (1122, 0.0), (1124, 0.0), (1127, 0.0), (1130, 0.0), (1135, 0.0), (1139, 0.0), (1148, 0.0), (1156, 0.0), (1157, 0.0), (1161, 0.0), (1166, 0.0), (1168, 0.0), (1169, 0.0), (1173, 0.0), (1178, 0.0), (1181, 0.0), (1185, 0.0), (1187, 0.0), (1188, 0.0), (1194, 0.0), (1199, 0.0), (1200, 0.0), (1201, 0.0), (1202, 0.0), (1204, 0.0), (1208, 0.0), (1209, 0.0), (1214, 0.0), (1215, 0.0), (1218, 0.0), (1222, 0.0), (1227, 0.0), (1229, 0.0), (1240, 0.0), (1242, 0.0), (1245, 0.0), (1249, 0.0), (1251, 0.0), (1253, 0.0), (1254, 0.0), (1257, 0.0), (1262, 0.0), (1267, 0.0), (1269, 0.0), (1276, 0.0), (1278, 0.0), (1279, 0.0), (1280, 0.0), (1282, 0.0)]\n"
     ]
    }
   ],
   "source": [
    "#sorting the movies based on similariy score\n",
    "#this will give us the scores from high to low in comparison to the movie the user inputted.\n",
    "sorted_similar_movies = sorted(similarity_score, key = lambda x:x[1], reverse = True) \n",
    "print(sorted_similar_movies)"
   ]
  },
  {
   "cell_type": "code",
   "execution_count": 334,
   "id": "8825b4c7",
   "metadata": {},
   "outputs": [
    {
     "name": "stdout",
     "output_type": "stream",
     "text": [
      "Recommended Movies : \n",
      "\n",
      "1 . Chennai Express\n",
      "2 . Sunday\n",
      "3 . Golmaal 3\n",
      "4 . All the Best: Fun Begins\n",
      "5 . Singham\n",
      "6 . Singham Returns\n",
      "7 . Bol Bachchan\n",
      "8 . Housefull 2\n",
      "9 . Humshakals\n",
      "10 . Himmatwala\n",
      "11 . Housefull\n",
      "12 . Happy New Year\n",
      "13 . Chalte Chalte\n",
      "14 . Kitne Door... Kitne Paas\n",
      "15 . Benny and Babloo\n",
      "16 . Ittefaq\n",
      "17 . Golmaal Returns\n",
      "18 . Yeh Hai Jalwa\n",
      "19 . Ready\n"
     ]
    }
   ],
   "source": [
    " #print the name of similar movies based on the index\n",
    "\n",
    "print('Recommended Movies : \\n')\n",
    "\n",
    "i = 1\n",
    "\n",
    "for movie in sorted_similar_movies:\n",
    "  index = movie[0]\n",
    "  title_from_index = df[df.index==index]['title'].values[0]\n",
    "  if (i<20):\n",
    "    print(i, '.',title_from_index)\n",
    "    i+=1"
   ]
  },
  {
   "cell_type": "code",
   "execution_count": null,
   "id": "f1f15a93",
   "metadata": {},
   "outputs": [],
   "source": []
  }
 ],
 "metadata": {
  "kernelspec": {
   "display_name": "Python 3 (ipykernel)",
   "language": "python",
   "name": "python3"
  },
  "language_info": {
   "codemirror_mode": {
    "name": "ipython",
    "version": 3
   },
   "file_extension": ".py",
   "mimetype": "text/x-python",
   "name": "python",
   "nbconvert_exporter": "python",
   "pygments_lexer": "ipython3",
   "version": "3.11.5"
  }
 },
 "nbformat": 4,
 "nbformat_minor": 5
}
